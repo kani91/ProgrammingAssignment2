{
  "nbformat": 4,
  "nbformat_minor": 0,
  "metadata": {
    "kernelspec": {
      "display_name": "Python 3",
      "language": "python",
      "name": "python3"
    },
    "language_info": {
      "codemirror_mode": {
        "name": "ipython",
        "version": 3
      },
      "file_extension": ".py",
      "mimetype": "text/x-python",
      "name": "python",
      "nbconvert_exporter": "python",
      "pygments_lexer": "ipython3",
      "version": "3.7.4"
    },
    "colab": {
      "name": "index-yelp.ipynb",
      "provenance": [],
      "include_colab_link": true
    }
  },
  "cells": [
    {
      "cell_type": "markdown",
      "metadata": {
        "id": "view-in-github",
        "colab_type": "text"
      },
      "source": [
        "<a href=\"https://colab.research.google.com/github/kani91/ProgrammingAssignment2/blob/master/index_yelp.ipynb\" target=\"_parent\"><img src=\"https://colab.research.google.com/assets/colab-badge.svg\" alt=\"Open In Colab\"/></a>"
      ]
    },
    {
      "cell_type": "markdown",
      "metadata": {
        "id": "DMeVowMHaKqT",
        "colab_type": "text"
      },
      "source": [
        "# Condensing Categorical Values Lab"
      ]
    },
    {
      "cell_type": "markdown",
      "metadata": {
        "id": "FklUKkwuaKqW",
        "colab_type": "text"
      },
      "source": [
        "### Introduction"
      ]
    },
    {
      "cell_type": "markdown",
      "metadata": {
        "id": "AQdcnnPWaKqY",
        "colab_type": "text"
      },
      "source": [
        "In this lesson, we'll condense values in the Category column of our restaurants dataset to reduce error due to variance in training our model."
      ]
    },
    {
      "cell_type": "markdown",
      "metadata": {
        "id": "XegRLvHtaKqZ",
        "colab_type": "text"
      },
      "source": [
        "### Loading the Data"
      ]
    },
    {
      "cell_type": "code",
      "metadata": {
        "id": "XbZC4iaSaKqb",
        "colab_type": "code",
        "colab": {}
      },
      "source": [
        "import pandas as pd\n",
        "url_yelp = \"https://raw.githubusercontent.com/jigsawlabs-student/feature-engineering/master/9-sparse-categories-yelp/yelp-lunch-nyc.csv\"\n",
        "df = pd.read_csv(url_yelp)"
      ],
      "execution_count": 0,
      "outputs": []
    },
    {
      "cell_type": "code",
      "metadata": {
        "id": "ed7XHuJaaKqh",
        "colab_type": "code",
        "outputId": "b930a146-3c19-4db6-8f68-c1615641277c",
        "colab": {
          "base_uri": "https://localhost:8080/",
          "height": 107
        }
      },
      "source": [
        "df[:2]"
      ],
      "execution_count": 0,
      "outputs": [
        {
          "output_type": "execute_result",
          "data": {
            "text/html": [
              "<div>\n",
              "<style scoped>\n",
              "    .dataframe tbody tr th:only-of-type {\n",
              "        vertical-align: middle;\n",
              "    }\n",
              "\n",
              "    .dataframe tbody tr th {\n",
              "        vertical-align: top;\n",
              "    }\n",
              "\n",
              "    .dataframe thead th {\n",
              "        text-align: right;\n",
              "    }\n",
              "</style>\n",
              "<table border=\"1\" class=\"dataframe\">\n",
              "  <thead>\n",
              "    <tr style=\"text-align: right;\">\n",
              "      <th></th>\n",
              "      <th>Name</th>\n",
              "      <th>Address</th>\n",
              "      <th>City</th>\n",
              "      <th>Category</th>\n",
              "      <th>Rating</th>\n",
              "      <th>URL</th>\n",
              "    </tr>\n",
              "  </thead>\n",
              "  <tbody>\n",
              "    <tr>\n",
              "      <th>0</th>\n",
              "      <td>Rambling House</td>\n",
              "      <td>4292 Katonah Ave</td>\n",
              "      <td>Bronx</td>\n",
              "      <td>Pubs</td>\n",
              "      <td>4.0</td>\n",
              "      <td>http://www.yelp.com/biz/rambling-house-bronx</td>\n",
              "    </tr>\n",
              "    <tr>\n",
              "      <th>1</th>\n",
              "      <td>Curry Spot</td>\n",
              "      <td>4268 Katonah Ave</td>\n",
              "      <td>Bronx</td>\n",
              "      <td>Indian</td>\n",
              "      <td>4.0</td>\n",
              "      <td>http://www.yelp.com/biz/curry-spot-bronx</td>\n",
              "    </tr>\n",
              "  </tbody>\n",
              "</table>\n",
              "</div>"
            ],
            "text/plain": [
              "             Name  ...                                           URL\n",
              "0  Rambling House  ...  http://www.yelp.com/biz/rambling-house-bronx\n",
              "1      Curry Spot  ...      http://www.yelp.com/biz/curry-spot-bronx\n",
              "\n",
              "[2 rows x 6 columns]"
            ]
          },
          "metadata": {
            "tags": []
          },
          "execution_count": 72
        }
      ]
    },
    {
      "cell_type": "markdown",
      "metadata": {
        "id": "aGdn57B8aKqm",
        "colab_type": "text"
      },
      "source": [
        "Let's work on encoding the category."
      ]
    },
    {
      "cell_type": "code",
      "metadata": {
        "id": "gOMXDOwXaKqn",
        "colab_type": "code",
        "colab": {}
      },
      "source": [
        "category_col = df['Category']"
      ],
      "execution_count": 0,
      "outputs": []
    },
    {
      "cell_type": "markdown",
      "metadata": {
        "id": "qIGRTajYaKqr",
        "colab_type": "text"
      },
      "source": [
        "Begin by looking at all of the different values for Category and getting the percentage of times each occurs."
      ]
    },
    {
      "cell_type": "code",
      "metadata": {
        "id": "iqjVL4fvaKqs",
        "colab_type": "code",
        "outputId": "18b75633-d395-40d6-cb9a-6a6d8c271ae7",
        "colab": {
          "base_uri": "https://localhost:8080/",
          "height": 87
        }
      },
      "source": [
        "category_val = df['Category'].value_counts(normalize=True)\n",
        "category_val[:3]\n",
        "\n",
        "# Pizza      0.113750\n",
        "# Chinese    0.051626\n",
        "# Italian    0.049045\n",
        "# Name: Category, dtype: float64"
      ],
      "execution_count": 0,
      "outputs": [
        {
          "output_type": "execute_result",
          "data": {
            "text/plain": [
              "Pizza      0.113750\n",
              "Chinese    0.051626\n",
              "Italian    0.049045\n",
              "Name: Category, dtype: float64"
            ]
          },
          "metadata": {
            "tags": []
          },
          "execution_count": 75
        }
      ]
    },
    {
      "cell_type": "markdown",
      "metadata": {
        "id": "mjEtTyNnaKqy",
        "colab_type": "text"
      },
      "source": [
        "Next select all of the rows from `genre_val`, that occur over 1 percent of the time."
      ]
    },
    {
      "cell_type": "code",
      "metadata": {
        "id": "M_7lKdUtaKqy",
        "colab_type": "code",
        "outputId": "31bbd11a-bd24-49c4-b888-196ecb9d7775",
        "colab": {
          "base_uri": "https://localhost:8080/",
          "height": 122
        }
      },
      "source": [
        "top_categories = category_val[category_val>0.01]\n",
        "top_categories[:5]\n",
        "\n",
        "# Pizza             0.113750\n",
        "# Chinese           0.051626\n",
        "# Italian           0.049045\n",
        "# Mexican           0.044571\n",
        "# American (New)    0.044571\n",
        "# Name: Category, dtype: float64"
      ],
      "execution_count": 0,
      "outputs": [
        {
          "output_type": "execute_result",
          "data": {
            "text/plain": [
              "Pizza             0.113750\n",
              "Chinese           0.051626\n",
              "Italian           0.049045\n",
              "Mexican           0.044571\n",
              "American (New)    0.044571\n",
              "Name: Category, dtype: float64"
            ]
          },
          "metadata": {
            "tags": []
          },
          "execution_count": 76
        }
      ]
    },
    {
      "cell_type": "code",
      "metadata": {
        "id": "X_vhv92TaKq4",
        "colab_type": "code",
        "outputId": "213b18c4-6a32-4394-fb19-f3dc0592bdc0",
        "colab": {
          "base_uri": "https://localhost:8080/",
          "height": 34
        }
      },
      "source": [
        "top_categories.shape\n",
        "# (27,)"
      ],
      "execution_count": 0,
      "outputs": [
        {
          "output_type": "execute_result",
          "data": {
            "text/plain": [
              "(27,)"
            ]
          },
          "metadata": {
            "tags": []
          },
          "execution_count": 77
        }
      ]
    },
    {
      "cell_type": "markdown",
      "metadata": {
        "id": "itRo9UoeaKq_",
        "colab_type": "text"
      },
      "source": [
        "We can see there are 27 top categories, and they consist of .80 percent of the data."
      ]
    },
    {
      "cell_type": "code",
      "metadata": {
        "id": "fzpeLqfyaKq_",
        "colab_type": "code",
        "outputId": "0e6b384c-bd15-4b6f-e422-5aa24df426c4",
        "colab": {
          "base_uri": "https://localhost:8080/",
          "height": 34
        }
      },
      "source": [
        "top_categories.sum()"
      ],
      "execution_count": 0,
      "outputs": [
        {
          "output_type": "execute_result",
          "data": {
            "text/plain": [
              "0.8070900017208741"
            ]
          },
          "metadata": {
            "tags": []
          },
          "execution_count": 8
        }
      ]
    },
    {
      "cell_type": "markdown",
      "metadata": {
        "id": "1_SIuEyYaKrC",
        "colab_type": "text"
      },
      "source": [
        "Let's scan through the list."
      ]
    },
    {
      "cell_type": "code",
      "metadata": {
        "id": "zBLrw1efaKrD",
        "colab_type": "code",
        "outputId": "e9c40f1b-a3ec-4651-8667-c25f0b5660c1",
        "colab": {
          "base_uri": "https://localhost:8080/",
          "height": 507
        }
      },
      "source": [
        "top_categories"
      ],
      "execution_count": 0,
      "outputs": [
        {
          "output_type": "execute_result",
          "data": {
            "text/plain": [
              "Pizza                     0.113750\n",
              "Chinese                   0.051626\n",
              "Italian                   0.049045\n",
              "Mexican                   0.044571\n",
              "American (New)            0.044571\n",
              "Japanese                  0.042506\n",
              "Latin American            0.040096\n",
              "Sandwiches                0.038892\n",
              "Delis                     0.038720\n",
              "Indian                    0.031148\n",
              "American (Traditional)    0.029771\n",
              "Thai                      0.029427\n",
              "Sushi Bars                0.028567\n",
              "Burgers                   0.022543\n",
              "Mediterranean             0.019446\n",
              "Vegetarian                0.019446\n",
              "Caribbean                 0.018930\n",
              "Coffee & Tea              0.017037\n",
              "Seafood                   0.016348\n",
              "Diners                    0.016176\n",
              "Vietnamese                0.016004\n",
              "Middle Eastern            0.014627\n",
              "Korean                    0.014283\n",
              "Spanish                   0.013939\n",
              "Cuban                     0.013079\n",
              "Greek                     0.011874\n",
              "Cafes                     0.010669\n",
              "Name: Category, dtype: float64"
            ]
          },
          "metadata": {
            "tags": []
          },
          "execution_count": 30
        }
      ]
    },
    {
      "cell_type": "markdown",
      "metadata": {
        "id": "cmGYnHV2aKrG",
        "colab_type": "text"
      },
      "source": [
        "> Notice that some of these are pretty similar, and can likely be combined.  We'll avoid doing so here, but if we wanted to condense our columns further it would remain an option. "
      ]
    },
    {
      "cell_type": "markdown",
      "metadata": {
        "id": "SsbzfMFEaKrG",
        "colab_type": "text"
      },
      "source": [
        "### Coercing our Remaining Data"
      ]
    },
    {
      "cell_type": "markdown",
      "metadata": {
        "id": "qsom72FaaKrH",
        "colab_type": "text"
      },
      "source": [
        "Now let's replace the remaining values not meeting our threshold with `Other`.  \n",
        "\n",
        "First select the `top_category_labels`."
      ]
    },
    {
      "cell_type": "code",
      "metadata": {
        "id": "m1Q0t1YMaKrH",
        "colab_type": "code",
        "colab": {}
      },
      "source": [
        "top_category_labels = category_val[category_val>0.01].index"
      ],
      "execution_count": 0,
      "outputs": []
    },
    {
      "cell_type": "code",
      "metadata": {
        "id": "OC1Aged1aKrK",
        "colab_type": "code",
        "outputId": "2475648d-e580-4772-d34c-dc5d299330e1",
        "colab": {
          "base_uri": "https://localhost:8080/",
          "height": 139
        }
      },
      "source": [
        "top_category_labels\n",
        "# Index(['Pizza', 'Chinese', 'Italian', 'Mexican', 'American (New)', 'Japanese',\n",
        "#        'Latin American', 'Sandwiches', 'Delis', 'Indian',\n",
        "#        'American (Traditional)', 'Thai', 'Sushi Bars', 'Burgers',\n",
        "#        'Mediterranean', 'Vegetarian', 'Caribbean', 'Coffee & Tea', 'Seafood',\n",
        "#        'Diners', 'Vietnamese', 'Middle Eastern', 'Korean', 'Spanish', 'Cuban',\n",
        "#        'Greek', 'Cafes'],\n",
        "#       dtype='object')\n"
      ],
      "execution_count": 0,
      "outputs": [
        {
          "output_type": "execute_result",
          "data": {
            "text/plain": [
              "Index(['Pizza', 'Chinese', 'Italian', 'Mexican', 'American (New)', 'Japanese',\n",
              "       'Latin American', 'Sandwiches', 'Delis', 'Indian',\n",
              "       'American (Traditional)', 'Thai', 'Sushi Bars', 'Burgers',\n",
              "       'Mediterranean', 'Vegetarian', 'Caribbean', 'Coffee & Tea', 'Seafood',\n",
              "       'Diners', 'Vietnamese', 'Middle Eastern', 'Korean', 'Spanish', 'Cuban',\n",
              "       'Greek', 'Cafes'],\n",
              "      dtype='object')"
            ]
          },
          "metadata": {
            "tags": []
          },
          "execution_count": 79
        }
      ]
    },
    {
      "cell_type": "code",
      "metadata": {
        "id": "ljRzya4qcI5_",
        "colab_type": "code",
        "outputId": "e9587419-f7fc-4a38-d359-e35badfd2a32",
        "colab": {
          "base_uri": "https://localhost:8080/",
          "height": 227
        }
      },
      "source": [
        "category=df['Category']\n",
        "category.loc[~(category.isin(top_category_labels))]"
      ],
      "execution_count": 0,
      "outputs": [
        {
          "output_type": "execute_result",
          "data": {
            "text/plain": [
              "0                  Pubs\n",
              "3           Trinidadian\n",
              "4        Health Markets\n",
              "8                 Vegan\n",
              "12          Ethnic Food\n",
              "             ...       \n",
              "5768          Malaysian\n",
              "5780           Southern\n",
              "5795    Modern European\n",
              "5798             Kosher\n",
              "5808           Caterers\n",
              "Name: Category, Length: 1121, dtype: object"
            ]
          },
          "metadata": {
            "tags": []
          },
          "execution_count": 80
        }
      ]
    },
    {
      "cell_type": "markdown",
      "metadata": {
        "id": "nGqM0ACkaKrO",
        "colab_type": "text"
      },
      "source": [
        "Then replace those values not meeting our `1%` threshold with `Other`."
      ]
    },
    {
      "cell_type": "code",
      "metadata": {
        "id": "KpDTJ84taKrO",
        "colab_type": "code",
        "outputId": "a9ed830f-edcf-45c0-f6c2-52d21b0d59e2",
        "colab": {
          "base_uri": "https://localhost:8080/",
          "height": 104
        }
      },
      "source": [
        "# update here\n",
        "\n",
        "category=df['Category']\n",
        "\n",
        "category.loc[(~category.isin(top_category_labels))] = 'Other'"
      ],
      "execution_count": 0,
      "outputs": [
        {
          "output_type": "stream",
          "text": [
            "/usr/local/lib/python3.6/dist-packages/pandas/core/indexing.py:671: SettingWithCopyWarning: \n",
            "A value is trying to be set on a copy of a slice from a DataFrame\n",
            "\n",
            "See the caveats in the documentation: https://pandas.pydata.org/pandas-docs/stable/user_guide/indexing.html#returning-a-view-versus-a-copy\n",
            "  self._setitem_with_indexer(indexer, value)\n"
          ],
          "name": "stderr"
        }
      ]
    },
    {
      "cell_type": "code",
      "metadata": {
        "id": "BRqW5HeGaKrR",
        "colab_type": "code",
        "outputId": "0f841ff5-bfd5-43ea-f940-abef42189b25",
        "colab": {
          "base_uri": "https://localhost:8080/",
          "height": 209
        }
      },
      "source": [
        "df['Category'].value_counts(normalize = True)[:10]\n",
        "# Other             0.192910\n",
        "# Pizza             0.113750\n",
        "# Chinese           0.051626\n",
        "# Italian           0.049045\n",
        "# Mexican           0.044571\n",
        "# American (New)    0.044571\n",
        "# Japanese          0.042506\n",
        "# Latin American    0.040096\n",
        "# Sandwiches        0.038892\n",
        "# Delis             0.038720\n",
        "# Name: Category, dtype: float64"
      ],
      "execution_count": 0,
      "outputs": [
        {
          "output_type": "execute_result",
          "data": {
            "text/plain": [
              "Other             0.192910\n",
              "Pizza             0.113750\n",
              "Chinese           0.051626\n",
              "Italian           0.049045\n",
              "Mexican           0.044571\n",
              "American (New)    0.044571\n",
              "Japanese          0.042506\n",
              "Latin American    0.040096\n",
              "Sandwiches        0.038892\n",
              "Delis             0.038720\n",
              "Name: Category, dtype: float64"
            ]
          },
          "metadata": {
            "tags": []
          },
          "execution_count": 82
        }
      ]
    },
    {
      "cell_type": "code",
      "metadata": {
        "id": "cJi0SNPiaKrU",
        "colab_type": "code",
        "outputId": "b1148c2e-7f78-4ea1-c0f3-7668c5120fa3",
        "colab": {
          "base_uri": "https://localhost:8080/",
          "height": 34
        }
      },
      "source": [
        "df['Category'].value_counts(normalize = True).shape\n",
        "# (28,)"
      ],
      "execution_count": 0,
      "outputs": [
        {
          "output_type": "execute_result",
          "data": {
            "text/plain": [
              "(28,)"
            ]
          },
          "metadata": {
            "tags": []
          },
          "execution_count": 83
        }
      ]
    },
    {
      "cell_type": "markdown",
      "metadata": {
        "id": "_9InoLevaKrW",
        "colab_type": "text"
      },
      "source": [
        "So there are now 28 total categories."
      ]
    },
    {
      "cell_type": "markdown",
      "metadata": {
        "id": "MbMfsuY8aKrW",
        "colab_type": "text"
      },
      "source": [
        "Call get_dummies to one hot encode the values in the column. "
      ]
    },
    {
      "cell_type": "code",
      "metadata": {
        "id": "6RAsd60NaKrX",
        "colab_type": "code",
        "colab": {}
      },
      "source": [
        "df_category = pd.get_dummies(df['Category'])"
      ],
      "execution_count": 0,
      "outputs": []
    },
    {
      "cell_type": "code",
      "metadata": {
        "id": "xF2qVhyDaKrf",
        "colab_type": "code",
        "outputId": "399c3380-3abe-439b-a2f4-0bbd945f71a2",
        "colab": {
          "base_uri": "https://localhost:8080/",
          "height": 34
        }
      },
      "source": [
        "df_category.columns"
      ],
      "execution_count": 0,
      "outputs": [
        {
          "output_type": "execute_result",
          "data": {
            "text/plain": [
              "Index(['Other'], dtype='object')"
            ]
          },
          "metadata": {
            "tags": []
          },
          "execution_count": 61
        }
      ]
    },
    {
      "cell_type": "markdown",
      "metadata": {
        "id": "mfIw6_LNaKro",
        "colab_type": "text"
      },
      "source": [
        "### Reducing Further"
      ]
    },
    {
      "cell_type": "markdown",
      "metadata": {
        "id": "Hs96zZviaKro",
        "colab_type": "text"
      },
      "source": [
        "Depending on the model, and our error, we may decide to reduce the number of columns even further.  Let's take another look at the top 15 values and their percentages."
      ]
    },
    {
      "cell_type": "code",
      "metadata": {
        "id": "ldxJsm3QaKrp",
        "colab_type": "code",
        "outputId": "0bc4968d-a7d1-44f0-f8f2-b98d3840deb0",
        "colab": {
          "base_uri": "https://localhost:8080/",
          "height": 209
        }
      },
      "source": [
        "top_fifteen = df['Category'].value_counts(normalize=True)[:15]\n",
        "\n",
        "top_fifteen[:10]\n",
        "# Other             0.192910\n",
        "# Pizza             0.113750\n",
        "# Chinese           0.051626\n",
        "# Italian           0.049045\n",
        "# Mexican           0.044571\n",
        "# American (New)    0.044571\n",
        "# Japanese          0.042506\n",
        "# Latin American    0.040096\n",
        "# Sandwiches        0.038892\n",
        "# Delis             0.038720\n",
        "# Name: Category, dtype: float64"
      ],
      "execution_count": 0,
      "outputs": [
        {
          "output_type": "execute_result",
          "data": {
            "text/plain": [
              "Other             0.192910\n",
              "Pizza             0.113750\n",
              "Chinese           0.051626\n",
              "Italian           0.049045\n",
              "Mexican           0.044571\n",
              "American (New)    0.044571\n",
              "Japanese          0.042506\n",
              "Latin American    0.040096\n",
              "Sandwiches        0.038892\n",
              "Delis             0.038720\n",
              "Name: Category, dtype: float64"
            ]
          },
          "metadata": {
            "tags": []
          },
          "execution_count": 84
        }
      ]
    },
    {
      "cell_type": "code",
      "metadata": {
        "id": "UYUG1VNjaKrr",
        "colab_type": "code",
        "outputId": "e8d4fc83-1144-4bd2-e735-443eb53dac96",
        "colab": {
          "base_uri": "https://localhost:8080/",
          "height": 34
        }
      },
      "source": [
        "top_fifteen.sum()"
      ],
      "execution_count": 0,
      "outputs": [
        {
          "output_type": "execute_result",
          "data": {
            "text/plain": [
              "0.7981414558595766"
            ]
          },
          "metadata": {
            "tags": []
          },
          "execution_count": 85
        }
      ]
    },
    {
      "cell_type": "code",
      "metadata": {
        "id": "3zJe9aICeZUP",
        "colab_type": "code",
        "outputId": "0170d9bc-5d95-406e-a966-67d411b9412e",
        "colab": {
          "base_uri": "https://localhost:8080/",
          "height": 227
        }
      },
      "source": [
        ""
      ],
      "execution_count": 0,
      "outputs": [
        {
          "output_type": "execute_result",
          "data": {
            "text/plain": [
              "0                        Other\n",
              "1                       Indian\n",
              "2       American (Traditional)\n",
              "3                        Other\n",
              "4                        Other\n",
              "                 ...          \n",
              "5806                  Japanese\n",
              "5807            Latin American\n",
              "5808                     Other\n",
              "5809            Middle Eastern\n",
              "5810                     Pizza\n",
              "Name: Category, Length: 5811, dtype: object"
            ]
          },
          "metadata": {
            "tags": []
          },
          "execution_count": 55
        }
      ]
    },
    {
      "cell_type": "markdown",
      "metadata": {
        "id": "3ECWagMaaKrt",
        "colab_type": "text"
      },
      "source": [
        "We can see that we capture roughly 80 percent of the data in only fifteen features.  Let's be more agressive with imputing our values.  \n",
        "\n",
        "Replace any values not in the top fifteen with `Other`, and then call one hot encode our `Category` again."
      ]
    },
    {
      "cell_type": "code",
      "metadata": {
        "id": "xwDDPcmuaKru",
        "colab_type": "code",
        "outputId": "f9ae6897-1243-4ef0-999d-a188f544fb34",
        "colab": {
          "base_uri": "https://localhost:8080/",
          "height": 87
        }
      },
      "source": [
        "top_fifteen_vals = df['Category'].value_counts(normalize=True)[:15].index\n",
        "top_fifteen_vals\n",
        "#"
      ],
      "execution_count": 0,
      "outputs": [
        {
          "output_type": "execute_result",
          "data": {
            "text/plain": [
              "Index(['Other', 'Pizza', 'Chinese', 'Italian', 'Mexican', 'American (New)',\n",
              "       'Japanese', 'Latin American', 'Sandwiches', 'Delis', 'Indian',\n",
              "       'American (Traditional)', 'Thai', 'Sushi Bars', 'Burgers'],\n",
              "      dtype='object')"
            ]
          },
          "metadata": {
            "tags": []
          },
          "execution_count": 88
        }
      ]
    },
    {
      "cell_type": "code",
      "metadata": {
        "id": "JelTJpfnaKrx",
        "colab_type": "code",
        "outputId": "276daa43-f8a7-4370-c8a6-c9aeaf4ed196",
        "colab": {
          "base_uri": "https://localhost:8080/",
          "height": 104
        }
      },
      "source": [
        "# update Category here\n",
        "df['Category'].loc[~df['Category'].isin(top_fifteen_vals)]='Other'"
      ],
      "execution_count": 0,
      "outputs": [
        {
          "output_type": "stream",
          "text": [
            "/usr/local/lib/python3.6/dist-packages/pandas/core/indexing.py:671: SettingWithCopyWarning: \n",
            "A value is trying to be set on a copy of a slice from a DataFrame\n",
            "\n",
            "See the caveats in the documentation: https://pandas.pydata.org/pandas-docs/stable/user_guide/indexing.html#returning-a-view-versus-a-copy\n",
            "  self._setitem_with_indexer(indexer, value)\n"
          ],
          "name": "stderr"
        }
      ]
    },
    {
      "cell_type": "code",
      "metadata": {
        "id": "LAwgcRLwaKr0",
        "colab_type": "code",
        "outputId": "e9949981-b8e9-44a6-dd56-888db25cae3d",
        "colab": {
          "base_uri": "https://localhost:8080/",
          "height": 297
        }
      },
      "source": [
        "df['Category'].value_counts(normalize = True)\n",
        "\n",
        "# Other                     0.394769\n",
        "# Pizza                     0.113750\n",
        "# Chinese                   0.051626\n",
        "# Italian                   0.049045\n",
        "# Mexican                   0.044571\n",
        "# American (New)            0.044571\n",
        "# Japanese                  0.042506\n",
        "# Latin American            0.040096\n",
        "# Sandwiches                0.038892\n",
        "# Delis                     0.038720\n",
        "# Indian                    0.031148\n",
        "# American (Traditional)    0.029771\n",
        "# Thai                      0.029427\n",
        "# Sushi Bars                0.028567\n",
        "# Burgers                   0.022543"
      ],
      "execution_count": 0,
      "outputs": [
        {
          "output_type": "execute_result",
          "data": {
            "text/plain": [
              "Other                     0.394769\n",
              "Pizza                     0.113750\n",
              "Chinese                   0.051626\n",
              "Italian                   0.049045\n",
              "Mexican                   0.044571\n",
              "American (New)            0.044571\n",
              "Japanese                  0.042506\n",
              "Latin American            0.040096\n",
              "Sandwiches                0.038892\n",
              "Delis                     0.038720\n",
              "Indian                    0.031148\n",
              "American (Traditional)    0.029771\n",
              "Thai                      0.029427\n",
              "Sushi Bars                0.028567\n",
              "Burgers                   0.022543\n",
              "Name: Category, dtype: float64"
            ]
          },
          "metadata": {
            "tags": []
          },
          "execution_count": 90
        }
      ]
    },
    {
      "cell_type": "markdown",
      "metadata": {
        "id": "L7NmR-j5aKr2",
        "colab_type": "text"
      },
      "source": [
        "Then call get dummies again on the category to further reduce the features."
      ]
    },
    {
      "cell_type": "code",
      "metadata": {
        "id": "ylWKf-wjaKr3",
        "colab_type": "code",
        "outputId": "24bd3bfa-5090-40fb-d816-dbbcdcee7033",
        "colab": {
          "base_uri": "https://localhost:8080/",
          "height": 107
        }
      },
      "source": [
        "# one hot encode the feature here\n",
        "df_final=pd.get_dummies(df['Category'])\n",
        "df_final[:2]\n",
        "# \tAmerican (Traditional)\tBurgers\tChinese\tDelis\tIndian\tItalian\tJapanese\tLatin American\tMexican\tOther\tPizza\tSandwiches\tSushi Bars\tThai\n",
        "# 0\t0\t0\t0\t0\t0\t0\t0\t0\t0\t1\t0\t0\t0\t0\n",
        "# 1\t0\t0\t0\t0\t1\t0\t0\t0\t0\t0\t0\t0\t0\t0"
      ],
      "execution_count": 0,
      "outputs": [
        {
          "output_type": "execute_result",
          "data": {
            "text/html": [
              "<div>\n",
              "<style scoped>\n",
              "    .dataframe tbody tr th:only-of-type {\n",
              "        vertical-align: middle;\n",
              "    }\n",
              "\n",
              "    .dataframe tbody tr th {\n",
              "        vertical-align: top;\n",
              "    }\n",
              "\n",
              "    .dataframe thead th {\n",
              "        text-align: right;\n",
              "    }\n",
              "</style>\n",
              "<table border=\"1\" class=\"dataframe\">\n",
              "  <thead>\n",
              "    <tr style=\"text-align: right;\">\n",
              "      <th></th>\n",
              "      <th>American (New)</th>\n",
              "      <th>American (Traditional)</th>\n",
              "      <th>Burgers</th>\n",
              "      <th>Chinese</th>\n",
              "      <th>Delis</th>\n",
              "      <th>Indian</th>\n",
              "      <th>Italian</th>\n",
              "      <th>Japanese</th>\n",
              "      <th>Latin American</th>\n",
              "      <th>Mexican</th>\n",
              "      <th>Other</th>\n",
              "      <th>Pizza</th>\n",
              "      <th>Sandwiches</th>\n",
              "      <th>Sushi Bars</th>\n",
              "      <th>Thai</th>\n",
              "    </tr>\n",
              "  </thead>\n",
              "  <tbody>\n",
              "    <tr>\n",
              "      <th>0</th>\n",
              "      <td>0</td>\n",
              "      <td>0</td>\n",
              "      <td>0</td>\n",
              "      <td>0</td>\n",
              "      <td>0</td>\n",
              "      <td>0</td>\n",
              "      <td>0</td>\n",
              "      <td>0</td>\n",
              "      <td>0</td>\n",
              "      <td>0</td>\n",
              "      <td>1</td>\n",
              "      <td>0</td>\n",
              "      <td>0</td>\n",
              "      <td>0</td>\n",
              "      <td>0</td>\n",
              "    </tr>\n",
              "    <tr>\n",
              "      <th>1</th>\n",
              "      <td>0</td>\n",
              "      <td>0</td>\n",
              "      <td>0</td>\n",
              "      <td>0</td>\n",
              "      <td>0</td>\n",
              "      <td>1</td>\n",
              "      <td>0</td>\n",
              "      <td>0</td>\n",
              "      <td>0</td>\n",
              "      <td>0</td>\n",
              "      <td>0</td>\n",
              "      <td>0</td>\n",
              "      <td>0</td>\n",
              "      <td>0</td>\n",
              "      <td>0</td>\n",
              "    </tr>\n",
              "  </tbody>\n",
              "</table>\n",
              "</div>"
            ],
            "text/plain": [
              "   American (New)  American (Traditional)  ...  Sushi Bars  Thai\n",
              "0               0                       0  ...           0     0\n",
              "1               0                       0  ...           0     0\n",
              "\n",
              "[2 rows x 15 columns]"
            ]
          },
          "metadata": {
            "tags": []
          },
          "execution_count": 93
        }
      ]
    },
    {
      "cell_type": "markdown",
      "metadata": {
        "id": "6S21LrIQaKr5",
        "colab_type": "text"
      },
      "source": [
        "### Summary"
      ]
    },
    {
      "cell_type": "markdown",
      "metadata": {
        "id": "QSJgFcSaaKr6",
        "colab_type": "text"
      },
      "source": [
        "In this lesson we practiced condensing infrequent categorical values.  This allows to create fewer features when one hot encoding our data.  Creating fewer features reduces the variance in our model."
      ]
    }
  ]
}