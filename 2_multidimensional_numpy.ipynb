{
  "nbformat": 4,
  "nbformat_minor": 0,
  "metadata": {
    "kernelspec": {
      "display_name": "Python 3",
      "language": "python",
      "name": "python3"
    },
    "language_info": {
      "codemirror_mode": {
        "name": "ipython",
        "version": 3
      },
      "file_extension": ".py",
      "mimetype": "text/x-python",
      "name": "python",
      "nbconvert_exporter": "python",
      "pygments_lexer": "ipython3",
      "version": "3.7.4"
    },
    "colab": {
      "name": "2-multidimensional-numpy.ipynb",
      "provenance": [],
      "include_colab_link": true
    }
  },
  "cells": [
    {
      "cell_type": "markdown",
      "metadata": {
        "id": "view-in-github",
        "colab_type": "text"
      },
      "source": [
        "<a href=\"https://colab.research.google.com/github/kani91/ProgrammingAssignment2/blob/master/2_multidimensional_numpy.ipynb\" target=\"_parent\"><img src=\"https://colab.research.google.com/assets/colab-badge.svg\" alt=\"Open In Colab\"/></a>"
      ]
    },
    {
      "cell_type": "markdown",
      "metadata": {
        "id": "uyxf22VHzP8W",
        "colab_type": "text"
      },
      "source": [
        "# Multidimensional Numpy Arrays"
      ]
    },
    {
      "cell_type": "markdown",
      "metadata": {
        "id": "unOpcdyFzP8a",
        "colab_type": "text"
      },
      "source": [
        "### Introduction"
      ]
    },
    {
      "cell_type": "markdown",
      "metadata": {
        "id": "jGu7N5ehzP8c",
        "colab_type": "text"
      },
      "source": [
        "In the last lesson, we were introduced to numpy arrays.  We saw that unlike lists in Python, with numpy arrays, each item must be of the same type.  We saw that by enforcing a homogenous type, we can perform operations like broadcasting.  \n",
        "\n",
        "In this lesson, we'll move onto creating and working with multidimensional arrays."
      ]
    },
    {
      "cell_type": "markdown",
      "metadata": {
        "id": "3umw9UPBzP8e",
        "colab_type": "text"
      },
      "source": [
        "### Creating a Multidimensional Array"
      ]
    },
    {
      "cell_type": "markdown",
      "metadata": {
        "id": "uQF8DfNAzP8i",
        "colab_type": "text"
      },
      "source": [
        "Let's begin by starting with a single dimensional array."
      ]
    },
    {
      "cell_type": "code",
      "metadata": {
        "id": "ZiY_NTcCzP8l",
        "colab_type": "code",
        "outputId": "71adfefc-0be6-459a-cd06-e9a40fcde462",
        "colab": {
          "base_uri": "https://localhost:8080/",
          "height": 34
        }
      },
      "source": [
        "import numpy as np\n",
        "nums_to_twelve = np.arange(1, 13)\n",
        "nums_to_twelve"
      ],
      "execution_count": 0,
      "outputs": [
        {
          "output_type": "execute_result",
          "data": {
            "text/plain": [
              "array([ 1,  2,  3,  4,  5,  6,  7,  8,  9, 10, 11, 12])"
            ]
          },
          "metadata": {
            "tags": []
          },
          "execution_count": 4
        }
      ]
    },
    {
      "cell_type": "markdown",
      "metadata": {
        "id": "5gllc1f8zP8t",
        "colab_type": "text"
      },
      "source": [
        "Now let's turn this into an array of two columns."
      ]
    },
    {
      "cell_type": "code",
      "metadata": {
        "id": "ALliRGi_zP8z",
        "colab_type": "code",
        "outputId": "cb38bf83-99ce-42c2-bc83-79c82fd7447a",
        "colab": {
          "base_uri": "https://localhost:8080/",
          "height": 119
        }
      },
      "source": [
        "nums_to_twelve.reshape(6, 2)"
      ],
      "execution_count": 0,
      "outputs": [
        {
          "output_type": "execute_result",
          "data": {
            "text/plain": [
              "array([[ 1,  2],\n",
              "       [ 3,  4],\n",
              "       [ 5,  6],\n",
              "       [ 7,  8],\n",
              "       [ 9, 10],\n",
              "       [11, 12]])"
            ]
          },
          "metadata": {
            "tags": []
          },
          "execution_count": 15
        }
      ]
    },
    {
      "cell_type": "markdown",
      "metadata": {
        "id": "NUC5AoSOzP85",
        "colab_type": "text"
      },
      "source": [
        "We just used the `reshape` method to create a new array of the same contents but now with `6` rows and `2` columns.  This is typical in numpy: specify the row, then the column.  "
      ]
    },
    {
      "cell_type": "markdown",
      "metadata": {
        "id": "KLTDOeaLzP86",
        "colab_type": "text"
      },
      "source": [
        "Let's try it again, this time with four rows and three columns."
      ]
    },
    {
      "cell_type": "code",
      "metadata": {
        "id": "JpLwzdhszP87",
        "colab_type": "code",
        "outputId": "e89e244c-2739-40b5-f4e5-87af3e069e4d",
        "colab": {
          "base_uri": "https://localhost:8080/",
          "height": 85
        }
      },
      "source": [
        "import numpy as np\n",
        "nums_to_twelve = np.arange(1, 13)\n",
        "\n",
        "to_twelve_grid = nums_to_twelve.reshape(4, 3)\n",
        "to_twelve_grid"
      ],
      "execution_count": 0,
      "outputs": [
        {
          "output_type": "execute_result",
          "data": {
            "text/plain": [
              "array([[ 1,  2,  3],\n",
              "       [ 4,  5,  6],\n",
              "       [ 7,  8,  9],\n",
              "       [10, 11, 12]])"
            ]
          },
          "metadata": {
            "tags": []
          },
          "execution_count": 14
        }
      ]
    },
    {
      "cell_type": "markdown",
      "metadata": {
        "id": "tI3SSZzNzP8-",
        "colab_type": "text"
      },
      "source": [
        "We can see the `shape` of an array with the `shape` method."
      ]
    },
    {
      "cell_type": "code",
      "metadata": {
        "id": "RK2MV0sJzP8_",
        "colab_type": "code",
        "outputId": "6ca6afed-3d2f-4cf5-837f-4a3ce91c0096",
        "colab": {
          "base_uri": "https://localhost:8080/",
          "height": 34
        }
      },
      "source": [
        "to_twelve_grid.shape"
      ],
      "execution_count": 0,
      "outputs": [
        {
          "output_type": "execute_result",
          "data": {
            "text/plain": [
              "(4, 3)"
            ]
          },
          "metadata": {
            "tags": []
          },
          "execution_count": 19
        }
      ]
    },
    {
      "cell_type": "markdown",
      "metadata": {
        "id": "7g3CzOXbzP9G",
        "colab_type": "text"
      },
      "source": [
        "This tells us that there are four rows and three columns in the `to_twelve_grid`."
      ]
    },
    {
      "cell_type": "markdown",
      "metadata": {
        "id": "UaOdc-W1zP9H",
        "colab_type": "text"
      },
      "source": [
        "> Note that we can also view the shape of a single dimensional array."
      ]
    },
    {
      "cell_type": "code",
      "metadata": {
        "id": "5QiQ1ThDzP9I",
        "colab_type": "code",
        "outputId": "7a8c147c-36c0-44a0-ff8c-295f63afa314",
        "colab": {
          "base_uri": "https://localhost:8080/",
          "height": 34
        }
      },
      "source": [
        "nums_to_twelve"
      ],
      "execution_count": 0,
      "outputs": [
        {
          "output_type": "execute_result",
          "data": {
            "text/plain": [
              "array([ 1,  2,  3,  4,  5,  6,  7,  8,  9, 10, 11, 12])"
            ]
          },
          "metadata": {
            "tags": []
          },
          "execution_count": 20
        }
      ]
    },
    {
      "cell_type": "code",
      "metadata": {
        "id": "GRZ1gtmYzP9M",
        "colab_type": "code",
        "outputId": "0b1b141b-7ad5-4997-a5fb-20a62d24d5fb",
        "colab": {
          "base_uri": "https://localhost:8080/",
          "height": 34
        }
      },
      "source": [
        "nums_to_twelve.shape"
      ],
      "execution_count": 0,
      "outputs": [
        {
          "output_type": "execute_result",
          "data": {
            "text/plain": [
              "(12,)"
            ]
          },
          "metadata": {
            "tags": []
          },
          "execution_count": 21
        }
      ]
    },
    {
      "cell_type": "markdown",
      "metadata": {
        "id": "8nARN4PCzP9O",
        "colab_type": "text"
      },
      "source": [
        "## Selecting with Multidimensional Arrays"
      ]
    },
    {
      "cell_type": "markdown",
      "metadata": {
        "id": "eAdUzAu6zP9Q",
        "colab_type": "text"
      },
      "source": [
        "Now let's talk about selecting from an array."
      ]
    },
    {
      "cell_type": "markdown",
      "metadata": {
        "id": "8eZrS7UDzP9Q",
        "colab_type": "text"
      },
      "source": [
        "Just as **creating** arrays works by specifying the row information followed by the column information, we use the same pattern with **selecting** items."
      ]
    },
    {
      "cell_type": "code",
      "metadata": {
        "id": "PgHM0M2yzP9R",
        "colab_type": "code",
        "outputId": "03fdc339-6009-48d8-9b9b-45b07d60d85f",
        "colab": {
          "base_uri": "https://localhost:8080/",
          "height": 85
        }
      },
      "source": [
        "import numpy as np\n",
        "nums_to_twelve = np.arange(1, 13)\n",
        "\n",
        "to_twelve_grid = nums_to_twelve.reshape(4, 3)\n",
        "to_twelve_grid"
      ],
      "execution_count": 0,
      "outputs": [
        {
          "output_type": "execute_result",
          "data": {
            "text/plain": [
              "array([[ 1,  2,  3],\n",
              "       [ 4,  5,  6],\n",
              "       [ 7,  8,  9],\n",
              "       [10, 11, 12]])"
            ]
          },
          "metadata": {
            "tags": []
          },
          "execution_count": 22
        }
      ]
    },
    {
      "cell_type": "markdown",
      "metadata": {
        "id": "dY2YzgGOzP9W",
        "colab_type": "text"
      },
      "source": [
        "For example, let's start the last item in the first row."
      ]
    },
    {
      "cell_type": "code",
      "metadata": {
        "id": "5p-R0apfzP9X",
        "colab_type": "code",
        "outputId": "24a54529-c880-4e7e-b6e2-8d96eda59f45",
        "colab": {}
      },
      "source": [
        "to_twelve_grid[0, -1]"
      ],
      "execution_count": 0,
      "outputs": [
        {
          "output_type": "execute_result",
          "data": {
            "text/plain": [
              "3"
            ]
          },
          "metadata": {
            "tags": []
          },
          "execution_count": 18
        }
      ]
    },
    {
      "cell_type": "markdown",
      "metadata": {
        "id": "UXkehSEuzP9a",
        "colab_type": "text"
      },
      "source": [
        "Next let's find the second element in the fourth row."
      ]
    },
    {
      "cell_type": "code",
      "metadata": {
        "id": "wo0G2yEUzP9a",
        "colab_type": "code",
        "outputId": "335ef9c6-ed6a-4b1b-a8e1-ad00da92d23c",
        "colab": {}
      },
      "source": [
        "to_twelve_grid[3, 1]"
      ],
      "execution_count": 0,
      "outputs": [
        {
          "output_type": "execute_result",
          "data": {
            "text/plain": [
              "11"
            ]
          },
          "metadata": {
            "tags": []
          },
          "execution_count": 19
        }
      ]
    },
    {
      "cell_type": "markdown",
      "metadata": {
        "id": "wRKpmlEOzP9d",
        "colab_type": "text"
      },
      "source": [
        "Next, let's select all elements in the first column."
      ]
    },
    {
      "cell_type": "code",
      "metadata": {
        "id": "a4paLpK3zP9e",
        "colab_type": "code",
        "outputId": "db6ed1bf-97ee-4430-8ef9-95771dc53a81",
        "colab": {}
      },
      "source": [
        "to_twelve_grid[:, 0]"
      ],
      "execution_count": 0,
      "outputs": [
        {
          "output_type": "execute_result",
          "data": {
            "text/plain": [
              "array([ 1,  4,  7, 10])"
            ]
          },
          "metadata": {
            "tags": []
          },
          "execution_count": 4
        }
      ]
    },
    {
      "cell_type": "markdown",
      "metadata": {
        "id": "FFx0KT0hzP9h",
        "colab_type": "text"
      },
      "source": [
        "Well this translates to selecting all the elements in a row, and only the first column."
      ]
    },
    {
      "cell_type": "markdown",
      "metadata": {
        "id": "53iodeRlzP9k",
        "colab_type": "text"
      },
      "source": [
        "Next, let's select all of the elements in the second row.  This means we select only the second row, and all of the columns."
      ]
    },
    {
      "cell_type": "code",
      "metadata": {
        "id": "13oOvjfwzP9l",
        "colab_type": "code",
        "outputId": "8619c73a-62ac-4ebc-e1b3-c8b0e87bfa09",
        "colab": {}
      },
      "source": [
        "to_twelve_grid[1, :]"
      ],
      "execution_count": 0,
      "outputs": [
        {
          "output_type": "execute_result",
          "data": {
            "text/plain": [
              "array([4, 5, 6])"
            ]
          },
          "metadata": {
            "tags": []
          },
          "execution_count": 28
        }
      ]
    },
    {
      "cell_type": "code",
      "metadata": {
        "id": "UMb_AjpMzP9r",
        "colab_type": "code",
        "outputId": "a7327317-9704-4861-d368-6b3e6e83b71f",
        "colab": {}
      },
      "source": [
        "to_twelve_grid"
      ],
      "execution_count": 0,
      "outputs": [
        {
          "output_type": "execute_result",
          "data": {
            "text/plain": [
              "array([[ 1,  2,  3],\n",
              "       [ 4,  5,  6],\n",
              "       [ 7,  8,  9],\n",
              "       [10, 11, 12]])"
            ]
          },
          "metadata": {
            "tags": []
          },
          "execution_count": 5
        }
      ]
    },
    {
      "cell_type": "markdown",
      "metadata": {
        "id": "kEVLqxDLzP9u",
        "colab_type": "text"
      },
      "source": [
        "## Understanding an Axis"
      ]
    },
    {
      "cell_type": "markdown",
      "metadata": {
        "id": "BQQpl5zizP9v",
        "colab_type": "text"
      },
      "source": [
        "Let's take another look at our `to_twelve_grid`.  "
      ]
    },
    {
      "cell_type": "markdown",
      "metadata": {
        "id": "qajRe0oLzP9w",
        "colab_type": "text"
      },
      "source": [
        "If this were a plot, we might refer to the items as points in a plot.  Our plot would have a vertical axis, moving down through the rows, and a horizontal axis moving left to right through the columns.  \n",
        "\n",
        "In numpy the moving downward through the rows is axis 0.  And moving left to right through the columns is axis 1."
      ]
    },
    {
      "cell_type": "code",
      "metadata": {
        "id": "MbDuoELUzP9x",
        "colab_type": "code",
        "outputId": "12674615-acc7-4b4e-e8c3-64d4d8e6e3de",
        "colab": {}
      },
      "source": [
        "to_twelve_grid = nums_to_twelve.reshape(4, 3)\n",
        "to_twelve_grid"
      ],
      "execution_count": 0,
      "outputs": [
        {
          "output_type": "execute_result",
          "data": {
            "text/plain": [
              "array([[ 1,  2,  3],\n",
              "       [ 4,  5,  6],\n",
              "       [ 7,  8,  9],\n",
              "       [10, 11, 12]])"
            ]
          },
          "metadata": {
            "tags": []
          },
          "execution_count": 12
        }
      ]
    },
    {
      "cell_type": "markdown",
      "metadata": {
        "id": "-PyGLtwyzP91",
        "colab_type": "text"
      },
      "source": [
        "We can use this with different operations like sum.  For instance let's add the entries of each row."
      ]
    },
    {
      "cell_type": "code",
      "metadata": {
        "id": "Cp99VWPbzP92",
        "colab_type": "code",
        "outputId": "a4a1e8fa-2565-4f84-e343-d98830a08eb6",
        "colab": {}
      },
      "source": [
        "np.sum(to_twelve_grid, axis = 0)"
      ],
      "execution_count": 0,
      "outputs": [
        {
          "output_type": "execute_result",
          "data": {
            "text/plain": [
              "array([22, 26, 30])"
            ]
          },
          "metadata": {
            "tags": []
          },
          "execution_count": 13
        }
      ]
    },
    {
      "cell_type": "markdown",
      "metadata": {
        "id": "Ci7ChLTdzP95",
        "colab_type": "text"
      },
      "source": [
        "Let's check to make sure this makes sense.  The first entry is 22 as $1 + 4 + 7 + 10 = 22$."
      ]
    },
    {
      "cell_type": "markdown",
      "metadata": {
        "id": "_t93UWV4zP95",
        "colab_type": "text"
      },
      "source": [
        "Now let's add columnwise."
      ]
    },
    {
      "cell_type": "markdown",
      "metadata": {
        "id": "IkaUaGvqzP96",
        "colab_type": "text"
      },
      "source": [
        "> Here again is our `to_twelve_grid`."
      ]
    },
    {
      "cell_type": "code",
      "metadata": {
        "id": "V2395m9czP97",
        "colab_type": "code",
        "outputId": "f786f007-ec9f-4930-8dda-eb3a0ed6ae3b",
        "colab": {}
      },
      "source": [
        "to_twelve_grid"
      ],
      "execution_count": 0,
      "outputs": [
        {
          "output_type": "execute_result",
          "data": {
            "text/plain": [
              "array([[ 1,  2,  3],\n",
              "       [ 4,  5,  6],\n",
              "       [ 7,  8,  9],\n",
              "       [10, 11, 12]])"
            ]
          },
          "metadata": {
            "tags": []
          },
          "execution_count": 14
        }
      ]
    },
    {
      "cell_type": "code",
      "metadata": {
        "id": "sAftkyFVzP9-",
        "colab_type": "code",
        "outputId": "ac0cfc7c-cc4c-4842-d658-cb322946845f",
        "colab": {}
      },
      "source": [
        "np.sum(to_twelve_grid, axis = 1)"
      ],
      "execution_count": 0,
      "outputs": [
        {
          "output_type": "execute_result",
          "data": {
            "text/plain": [
              "array([ 6, 15, 24, 33])"
            ]
          },
          "metadata": {
            "tags": []
          },
          "execution_count": 15
        }
      ]
    },
    {
      "cell_type": "markdown",
      "metadata": {
        "id": "iS99EhTFzP-A",
        "colab_type": "text"
      },
      "source": [
        "And if we just wish to sum all of the entries in array we can leave out the `axis` argument."
      ]
    },
    {
      "cell_type": "code",
      "metadata": {
        "id": "8iYHlDDMzP-B",
        "colab_type": "code",
        "outputId": "5eee7535-1740-416b-bfa6-bab6cf2f133c",
        "colab": {}
      },
      "source": [
        "np.sum(to_twelve_grid)"
      ],
      "execution_count": 0,
      "outputs": [
        {
          "output_type": "execute_result",
          "data": {
            "text/plain": [
              "78"
            ]
          },
          "metadata": {
            "tags": []
          },
          "execution_count": 16
        }
      ]
    },
    {
      "cell_type": "markdown",
      "metadata": {
        "id": "iaMl5eANzP-E",
        "colab_type": "text"
      },
      "source": [
        "### Summary"
      ]
    },
    {
      "cell_type": "markdown",
      "metadata": {
        "id": "bUhFiGv4zP-G",
        "colab_type": "text"
      },
      "source": [
        "In this lesson we learned how to work with multidimensional arrays in numpy.  We saw that our general pattern is to specify `(row, column)`.  We can create a multidimensional array, by calling `reshape` on a one-dimensional array.  And we can select elements from a multidimensional array by specifying the rows items, followed the column items to select."
      ]
    },
    {
      "cell_type": "markdown",
      "metadata": {
        "id": "zGrRbuY4zP-H",
        "colab_type": "text"
      },
      "source": [
        "And we can select an entire row from a matrix, by specifying the row, and then selecting all columns with `:`."
      ]
    },
    {
      "cell_type": "code",
      "metadata": {
        "id": "Xr7Ia2ogzP-I",
        "colab_type": "code",
        "outputId": "3f049811-c394-4634-ba07-7898fd31dab4",
        "colab": {}
      },
      "source": [
        "to_twelve_grid"
      ],
      "execution_count": 0,
      "outputs": [
        {
          "output_type": "execute_result",
          "data": {
            "text/plain": [
              "array([[ 1,  2,  3],\n",
              "       [ 4,  5,  6],\n",
              "       [ 7,  8,  9],\n",
              "       [10, 11, 12]])"
            ]
          },
          "metadata": {
            "tags": []
          },
          "execution_count": 32
        }
      ]
    },
    {
      "cell_type": "code",
      "metadata": {
        "id": "Xue5zh0ZzP-M",
        "colab_type": "code",
        "outputId": "e98864a7-a080-45b8-9bfa-4c15d80823f6",
        "colab": {}
      },
      "source": [
        "to_twelve_grid[1, :]"
      ],
      "execution_count": 0,
      "outputs": [
        {
          "output_type": "execute_result",
          "data": {
            "text/plain": [
              "array([4, 5, 6])"
            ]
          },
          "metadata": {
            "tags": []
          },
          "execution_count": 33
        }
      ]
    },
    {
      "cell_type": "markdown",
      "metadata": {
        "id": "vLwPseZNzP-R",
        "colab_type": "text"
      },
      "source": [
        "Then, we learned about an axis in numpy, and that working row-wise (or along the vertical axis) is axis 0, where operating along the columns is axis 1."
      ]
    },
    {
      "cell_type": "markdown",
      "metadata": {
        "id": "73Wz74D5zP-U",
        "colab_type": "text"
      },
      "source": [
        "So for example if we want to add the entries of all of the we can do so with the following:"
      ]
    },
    {
      "cell_type": "code",
      "metadata": {
        "id": "m1MMEpCSzP-W",
        "colab_type": "code",
        "outputId": "10d652e6-20fa-47ca-f5e3-b95197fefeb7",
        "colab": {}
      },
      "source": [
        "np.sum(to_twelve_grid, axis = 0)"
      ],
      "execution_count": 0,
      "outputs": [
        {
          "output_type": "execute_result",
          "data": {
            "text/plain": [
              "array([22, 26, 30])"
            ]
          },
          "metadata": {
            "tags": []
          },
          "execution_count": 34
        }
      ]
    }
  ]
}