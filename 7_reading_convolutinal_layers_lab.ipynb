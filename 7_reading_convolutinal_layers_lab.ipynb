{
  "nbformat": 4,
  "nbformat_minor": 0,
  "metadata": {
    "kernelspec": {
      "display_name": "Python 3",
      "language": "python",
      "name": "python3"
    },
    "language_info": {
      "codemirror_mode": {
        "name": "ipython",
        "version": 3
      },
      "file_extension": ".py",
      "mimetype": "text/x-python",
      "name": "python",
      "nbconvert_exporter": "python",
      "pygments_lexer": "ipython3",
      "version": "3.7.4"
    },
    "colab": {
      "name": "7-reading-convolutinal-layers-lab.ipynb",
      "provenance": [],
      "include_colab_link": true
    },
    "widgets": {
      "application/vnd.jupyter.widget-state+json": {
        "07fb7be193094f448bc333b4af06da05": {
          "model_module": "@jupyter-widgets/controls",
          "model_name": "HBoxModel",
          "state": {
            "_view_name": "HBoxView",
            "_dom_classes": [],
            "_model_name": "HBoxModel",
            "_view_module": "@jupyter-widgets/controls",
            "_model_module_version": "1.5.0",
            "_view_count": null,
            "_view_module_version": "1.5.0",
            "box_style": "",
            "layout": "IPY_MODEL_103beb39287e4564a2c0e9fdd8f4c3e1",
            "_model_module": "@jupyter-widgets/controls",
            "children": [
              "IPY_MODEL_6b571b42b6fb4053b21443539d10da44",
              "IPY_MODEL_219b814d15b345aba0e36f75878721ef"
            ]
          }
        },
        "103beb39287e4564a2c0e9fdd8f4c3e1": {
          "model_module": "@jupyter-widgets/base",
          "model_name": "LayoutModel",
          "state": {
            "_view_name": "LayoutView",
            "grid_template_rows": null,
            "right": null,
            "justify_content": null,
            "_view_module": "@jupyter-widgets/base",
            "overflow": null,
            "_model_module_version": "1.2.0",
            "_view_count": null,
            "flex_flow": null,
            "width": null,
            "min_width": null,
            "border": null,
            "align_items": null,
            "bottom": null,
            "_model_module": "@jupyter-widgets/base",
            "top": null,
            "grid_column": null,
            "overflow_y": null,
            "overflow_x": null,
            "grid_auto_flow": null,
            "grid_area": null,
            "grid_template_columns": null,
            "flex": null,
            "_model_name": "LayoutModel",
            "justify_items": null,
            "grid_row": null,
            "max_height": null,
            "align_content": null,
            "visibility": null,
            "align_self": null,
            "height": null,
            "min_height": null,
            "padding": null,
            "grid_auto_rows": null,
            "grid_gap": null,
            "max_width": null,
            "order": null,
            "_view_module_version": "1.2.0",
            "grid_template_areas": null,
            "object_position": null,
            "object_fit": null,
            "grid_auto_columns": null,
            "margin": null,
            "display": null,
            "left": null
          }
        },
        "6b571b42b6fb4053b21443539d10da44": {
          "model_module": "@jupyter-widgets/controls",
          "model_name": "FloatProgressModel",
          "state": {
            "_view_name": "ProgressView",
            "style": "IPY_MODEL_46d662b17039407082f209f15e107c44",
            "_dom_classes": [],
            "description": "",
            "_model_name": "FloatProgressModel",
            "bar_style": "info",
            "max": 1,
            "_view_module": "@jupyter-widgets/controls",
            "_model_module_version": "1.5.0",
            "value": 1,
            "_view_count": null,
            "_view_module_version": "1.5.0",
            "orientation": "horizontal",
            "min": 0,
            "description_tooltip": null,
            "_model_module": "@jupyter-widgets/controls",
            "layout": "IPY_MODEL_bff413b4f8ec481e8cffbc953ea87c63"
          }
        },
        "219b814d15b345aba0e36f75878721ef": {
          "model_module": "@jupyter-widgets/controls",
          "model_name": "HTMLModel",
          "state": {
            "_view_name": "HTMLView",
            "style": "IPY_MODEL_46a93d7e6b1849b2bd96d574bdc11919",
            "_dom_classes": [],
            "description": "",
            "_model_name": "HTMLModel",
            "placeholder": "​",
            "_view_module": "@jupyter-widgets/controls",
            "_model_module_version": "1.5.0",
            "value": " 26427392/? [00:20&lt;00:00, 9511955.71it/s]",
            "_view_count": null,
            "_view_module_version": "1.5.0",
            "description_tooltip": null,
            "_model_module": "@jupyter-widgets/controls",
            "layout": "IPY_MODEL_4f75e826a7e14f6b8db6026765e12b52"
          }
        },
        "46d662b17039407082f209f15e107c44": {
          "model_module": "@jupyter-widgets/controls",
          "model_name": "ProgressStyleModel",
          "state": {
            "_view_name": "StyleView",
            "_model_name": "ProgressStyleModel",
            "description_width": "initial",
            "_view_module": "@jupyter-widgets/base",
            "_model_module_version": "1.5.0",
            "_view_count": null,
            "_view_module_version": "1.2.0",
            "bar_color": null,
            "_model_module": "@jupyter-widgets/controls"
          }
        },
        "bff413b4f8ec481e8cffbc953ea87c63": {
          "model_module": "@jupyter-widgets/base",
          "model_name": "LayoutModel",
          "state": {
            "_view_name": "LayoutView",
            "grid_template_rows": null,
            "right": null,
            "justify_content": null,
            "_view_module": "@jupyter-widgets/base",
            "overflow": null,
            "_model_module_version": "1.2.0",
            "_view_count": null,
            "flex_flow": null,
            "width": null,
            "min_width": null,
            "border": null,
            "align_items": null,
            "bottom": null,
            "_model_module": "@jupyter-widgets/base",
            "top": null,
            "grid_column": null,
            "overflow_y": null,
            "overflow_x": null,
            "grid_auto_flow": null,
            "grid_area": null,
            "grid_template_columns": null,
            "flex": null,
            "_model_name": "LayoutModel",
            "justify_items": null,
            "grid_row": null,
            "max_height": null,
            "align_content": null,
            "visibility": null,
            "align_self": null,
            "height": null,
            "min_height": null,
            "padding": null,
            "grid_auto_rows": null,
            "grid_gap": null,
            "max_width": null,
            "order": null,
            "_view_module_version": "1.2.0",
            "grid_template_areas": null,
            "object_position": null,
            "object_fit": null,
            "grid_auto_columns": null,
            "margin": null,
            "display": null,
            "left": null
          }
        },
        "46a93d7e6b1849b2bd96d574bdc11919": {
          "model_module": "@jupyter-widgets/controls",
          "model_name": "DescriptionStyleModel",
          "state": {
            "_view_name": "StyleView",
            "_model_name": "DescriptionStyleModel",
            "description_width": "",
            "_view_module": "@jupyter-widgets/base",
            "_model_module_version": "1.5.0",
            "_view_count": null,
            "_view_module_version": "1.2.0",
            "_model_module": "@jupyter-widgets/controls"
          }
        },
        "4f75e826a7e14f6b8db6026765e12b52": {
          "model_module": "@jupyter-widgets/base",
          "model_name": "LayoutModel",
          "state": {
            "_view_name": "LayoutView",
            "grid_template_rows": null,
            "right": null,
            "justify_content": null,
            "_view_module": "@jupyter-widgets/base",
            "overflow": null,
            "_model_module_version": "1.2.0",
            "_view_count": null,
            "flex_flow": null,
            "width": null,
            "min_width": null,
            "border": null,
            "align_items": null,
            "bottom": null,
            "_model_module": "@jupyter-widgets/base",
            "top": null,
            "grid_column": null,
            "overflow_y": null,
            "overflow_x": null,
            "grid_auto_flow": null,
            "grid_area": null,
            "grid_template_columns": null,
            "flex": null,
            "_model_name": "LayoutModel",
            "justify_items": null,
            "grid_row": null,
            "max_height": null,
            "align_content": null,
            "visibility": null,
            "align_self": null,
            "height": null,
            "min_height": null,
            "padding": null,
            "grid_auto_rows": null,
            "grid_gap": null,
            "max_width": null,
            "order": null,
            "_view_module_version": "1.2.0",
            "grid_template_areas": null,
            "object_position": null,
            "object_fit": null,
            "grid_auto_columns": null,
            "margin": null,
            "display": null,
            "left": null
          }
        },
        "c39b1f39813e4434864380aa0bc58b58": {
          "model_module": "@jupyter-widgets/controls",
          "model_name": "HBoxModel",
          "state": {
            "_view_name": "HBoxView",
            "_dom_classes": [],
            "_model_name": "HBoxModel",
            "_view_module": "@jupyter-widgets/controls",
            "_model_module_version": "1.5.0",
            "_view_count": null,
            "_view_module_version": "1.5.0",
            "box_style": "",
            "layout": "IPY_MODEL_8aa97479ca3b42169b725d4cd3826017",
            "_model_module": "@jupyter-widgets/controls",
            "children": [
              "IPY_MODEL_b0f9f92de0fc49eea694b9ca3f8b9328",
              "IPY_MODEL_9a1c52211b194db9a15c8b6b83ca21a3"
            ]
          }
        },
        "8aa97479ca3b42169b725d4cd3826017": {
          "model_module": "@jupyter-widgets/base",
          "model_name": "LayoutModel",
          "state": {
            "_view_name": "LayoutView",
            "grid_template_rows": null,
            "right": null,
            "justify_content": null,
            "_view_module": "@jupyter-widgets/base",
            "overflow": null,
            "_model_module_version": "1.2.0",
            "_view_count": null,
            "flex_flow": null,
            "width": null,
            "min_width": null,
            "border": null,
            "align_items": null,
            "bottom": null,
            "_model_module": "@jupyter-widgets/base",
            "top": null,
            "grid_column": null,
            "overflow_y": null,
            "overflow_x": null,
            "grid_auto_flow": null,
            "grid_area": null,
            "grid_template_columns": null,
            "flex": null,
            "_model_name": "LayoutModel",
            "justify_items": null,
            "grid_row": null,
            "max_height": null,
            "align_content": null,
            "visibility": null,
            "align_self": null,
            "height": null,
            "min_height": null,
            "padding": null,
            "grid_auto_rows": null,
            "grid_gap": null,
            "max_width": null,
            "order": null,
            "_view_module_version": "1.2.0",
            "grid_template_areas": null,
            "object_position": null,
            "object_fit": null,
            "grid_auto_columns": null,
            "margin": null,
            "display": null,
            "left": null
          }
        },
        "b0f9f92de0fc49eea694b9ca3f8b9328": {
          "model_module": "@jupyter-widgets/controls",
          "model_name": "FloatProgressModel",
          "state": {
            "_view_name": "ProgressView",
            "style": "IPY_MODEL_67a754d104b049eda97ea789eb3e3412",
            "_dom_classes": [],
            "description": "",
            "_model_name": "FloatProgressModel",
            "bar_style": "info",
            "max": 1,
            "_view_module": "@jupyter-widgets/controls",
            "_model_module_version": "1.5.0",
            "value": 1,
            "_view_count": null,
            "_view_module_version": "1.5.0",
            "orientation": "horizontal",
            "min": 0,
            "description_tooltip": null,
            "_model_module": "@jupyter-widgets/controls",
            "layout": "IPY_MODEL_d8d4c6d06ac2425394845b043c8b1a33"
          }
        },
        "9a1c52211b194db9a15c8b6b83ca21a3": {
          "model_module": "@jupyter-widgets/controls",
          "model_name": "HTMLModel",
          "state": {
            "_view_name": "HTMLView",
            "style": "IPY_MODEL_5c61cdec42894ac5bd999180ca5a7b86",
            "_dom_classes": [],
            "description": "",
            "_model_name": "HTMLModel",
            "placeholder": "​",
            "_view_module": "@jupyter-widgets/controls",
            "_model_module_version": "1.5.0",
            "value": " 32768/? [00:17&lt;00:00, 245572.29it/s]",
            "_view_count": null,
            "_view_module_version": "1.5.0",
            "description_tooltip": null,
            "_model_module": "@jupyter-widgets/controls",
            "layout": "IPY_MODEL_0486d1602ce247c5b28eb4a8f0862698"
          }
        },
        "67a754d104b049eda97ea789eb3e3412": {
          "model_module": "@jupyter-widgets/controls",
          "model_name": "ProgressStyleModel",
          "state": {
            "_view_name": "StyleView",
            "_model_name": "ProgressStyleModel",
            "description_width": "initial",
            "_view_module": "@jupyter-widgets/base",
            "_model_module_version": "1.5.0",
            "_view_count": null,
            "_view_module_version": "1.2.0",
            "bar_color": null,
            "_model_module": "@jupyter-widgets/controls"
          }
        },
        "d8d4c6d06ac2425394845b043c8b1a33": {
          "model_module": "@jupyter-widgets/base",
          "model_name": "LayoutModel",
          "state": {
            "_view_name": "LayoutView",
            "grid_template_rows": null,
            "right": null,
            "justify_content": null,
            "_view_module": "@jupyter-widgets/base",
            "overflow": null,
            "_model_module_version": "1.2.0",
            "_view_count": null,
            "flex_flow": null,
            "width": null,
            "min_width": null,
            "border": null,
            "align_items": null,
            "bottom": null,
            "_model_module": "@jupyter-widgets/base",
            "top": null,
            "grid_column": null,
            "overflow_y": null,
            "overflow_x": null,
            "grid_auto_flow": null,
            "grid_area": null,
            "grid_template_columns": null,
            "flex": null,
            "_model_name": "LayoutModel",
            "justify_items": null,
            "grid_row": null,
            "max_height": null,
            "align_content": null,
            "visibility": null,
            "align_self": null,
            "height": null,
            "min_height": null,
            "padding": null,
            "grid_auto_rows": null,
            "grid_gap": null,
            "max_width": null,
            "order": null,
            "_view_module_version": "1.2.0",
            "grid_template_areas": null,
            "object_position": null,
            "object_fit": null,
            "grid_auto_columns": null,
            "margin": null,
            "display": null,
            "left": null
          }
        },
        "5c61cdec42894ac5bd999180ca5a7b86": {
          "model_module": "@jupyter-widgets/controls",
          "model_name": "DescriptionStyleModel",
          "state": {
            "_view_name": "StyleView",
            "_model_name": "DescriptionStyleModel",
            "description_width": "",
            "_view_module": "@jupyter-widgets/base",
            "_model_module_version": "1.5.0",
            "_view_count": null,
            "_view_module_version": "1.2.0",
            "_model_module": "@jupyter-widgets/controls"
          }
        },
        "0486d1602ce247c5b28eb4a8f0862698": {
          "model_module": "@jupyter-widgets/base",
          "model_name": "LayoutModel",
          "state": {
            "_view_name": "LayoutView",
            "grid_template_rows": null,
            "right": null,
            "justify_content": null,
            "_view_module": "@jupyter-widgets/base",
            "overflow": null,
            "_model_module_version": "1.2.0",
            "_view_count": null,
            "flex_flow": null,
            "width": null,
            "min_width": null,
            "border": null,
            "align_items": null,
            "bottom": null,
            "_model_module": "@jupyter-widgets/base",
            "top": null,
            "grid_column": null,
            "overflow_y": null,
            "overflow_x": null,
            "grid_auto_flow": null,
            "grid_area": null,
            "grid_template_columns": null,
            "flex": null,
            "_model_name": "LayoutModel",
            "justify_items": null,
            "grid_row": null,
            "max_height": null,
            "align_content": null,
            "visibility": null,
            "align_self": null,
            "height": null,
            "min_height": null,
            "padding": null,
            "grid_auto_rows": null,
            "grid_gap": null,
            "max_width": null,
            "order": null,
            "_view_module_version": "1.2.0",
            "grid_template_areas": null,
            "object_position": null,
            "object_fit": null,
            "grid_auto_columns": null,
            "margin": null,
            "display": null,
            "left": null
          }
        },
        "6ccd7f8d49f743e7af03caa5db84b32c": {
          "model_module": "@jupyter-widgets/controls",
          "model_name": "HBoxModel",
          "state": {
            "_view_name": "HBoxView",
            "_dom_classes": [],
            "_model_name": "HBoxModel",
            "_view_module": "@jupyter-widgets/controls",
            "_model_module_version": "1.5.0",
            "_view_count": null,
            "_view_module_version": "1.5.0",
            "box_style": "",
            "layout": "IPY_MODEL_5c5bca37808d484ea3ae71fd045b2cd5",
            "_model_module": "@jupyter-widgets/controls",
            "children": [
              "IPY_MODEL_f7fbfca65edc4373bc30434441dcbfa5",
              "IPY_MODEL_b20f186d7c744acaa21e6cbfc416a88c"
            ]
          }
        },
        "5c5bca37808d484ea3ae71fd045b2cd5": {
          "model_module": "@jupyter-widgets/base",
          "model_name": "LayoutModel",
          "state": {
            "_view_name": "LayoutView",
            "grid_template_rows": null,
            "right": null,
            "justify_content": null,
            "_view_module": "@jupyter-widgets/base",
            "overflow": null,
            "_model_module_version": "1.2.0",
            "_view_count": null,
            "flex_flow": null,
            "width": null,
            "min_width": null,
            "border": null,
            "align_items": null,
            "bottom": null,
            "_model_module": "@jupyter-widgets/base",
            "top": null,
            "grid_column": null,
            "overflow_y": null,
            "overflow_x": null,
            "grid_auto_flow": null,
            "grid_area": null,
            "grid_template_columns": null,
            "flex": null,
            "_model_name": "LayoutModel",
            "justify_items": null,
            "grid_row": null,
            "max_height": null,
            "align_content": null,
            "visibility": null,
            "align_self": null,
            "height": null,
            "min_height": null,
            "padding": null,
            "grid_auto_rows": null,
            "grid_gap": null,
            "max_width": null,
            "order": null,
            "_view_module_version": "1.2.0",
            "grid_template_areas": null,
            "object_position": null,
            "object_fit": null,
            "grid_auto_columns": null,
            "margin": null,
            "display": null,
            "left": null
          }
        },
        "f7fbfca65edc4373bc30434441dcbfa5": {
          "model_module": "@jupyter-widgets/controls",
          "model_name": "FloatProgressModel",
          "state": {
            "_view_name": "ProgressView",
            "style": "IPY_MODEL_141de75216ab45759efefbba81619fc4",
            "_dom_classes": [],
            "description": "",
            "_model_name": "FloatProgressModel",
            "bar_style": "info",
            "max": 1,
            "_view_module": "@jupyter-widgets/controls",
            "_model_module_version": "1.5.0",
            "value": 1,
            "_view_count": null,
            "_view_module_version": "1.5.0",
            "orientation": "horizontal",
            "min": 0,
            "description_tooltip": null,
            "_model_module": "@jupyter-widgets/controls",
            "layout": "IPY_MODEL_1ea6835f41254935a7c1e393572224ed"
          }
        },
        "b20f186d7c744acaa21e6cbfc416a88c": {
          "model_module": "@jupyter-widgets/controls",
          "model_name": "HTMLModel",
          "state": {
            "_view_name": "HTMLView",
            "style": "IPY_MODEL_f7af9a5be6c049e4b5b59e85155ea894",
            "_dom_classes": [],
            "description": "",
            "_model_name": "HTMLModel",
            "placeholder": "​",
            "_view_module": "@jupyter-widgets/controls",
            "_model_module_version": "1.5.0",
            "value": " 4423680/? [00:17&lt;00:00, 1165955.58it/s]",
            "_view_count": null,
            "_view_module_version": "1.5.0",
            "description_tooltip": null,
            "_model_module": "@jupyter-widgets/controls",
            "layout": "IPY_MODEL_564cefcd50a64208889eccf2f0456e58"
          }
        },
        "141de75216ab45759efefbba81619fc4": {
          "model_module": "@jupyter-widgets/controls",
          "model_name": "ProgressStyleModel",
          "state": {
            "_view_name": "StyleView",
            "_model_name": "ProgressStyleModel",
            "description_width": "initial",
            "_view_module": "@jupyter-widgets/base",
            "_model_module_version": "1.5.0",
            "_view_count": null,
            "_view_module_version": "1.2.0",
            "bar_color": null,
            "_model_module": "@jupyter-widgets/controls"
          }
        },
        "1ea6835f41254935a7c1e393572224ed": {
          "model_module": "@jupyter-widgets/base",
          "model_name": "LayoutModel",
          "state": {
            "_view_name": "LayoutView",
            "grid_template_rows": null,
            "right": null,
            "justify_content": null,
            "_view_module": "@jupyter-widgets/base",
            "overflow": null,
            "_model_module_version": "1.2.0",
            "_view_count": null,
            "flex_flow": null,
            "width": null,
            "min_width": null,
            "border": null,
            "align_items": null,
            "bottom": null,
            "_model_module": "@jupyter-widgets/base",
            "top": null,
            "grid_column": null,
            "overflow_y": null,
            "overflow_x": null,
            "grid_auto_flow": null,
            "grid_area": null,
            "grid_template_columns": null,
            "flex": null,
            "_model_name": "LayoutModel",
            "justify_items": null,
            "grid_row": null,
            "max_height": null,
            "align_content": null,
            "visibility": null,
            "align_self": null,
            "height": null,
            "min_height": null,
            "padding": null,
            "grid_auto_rows": null,
            "grid_gap": null,
            "max_width": null,
            "order": null,
            "_view_module_version": "1.2.0",
            "grid_template_areas": null,
            "object_position": null,
            "object_fit": null,
            "grid_auto_columns": null,
            "margin": null,
            "display": null,
            "left": null
          }
        },
        "f7af9a5be6c049e4b5b59e85155ea894": {
          "model_module": "@jupyter-widgets/controls",
          "model_name": "DescriptionStyleModel",
          "state": {
            "_view_name": "StyleView",
            "_model_name": "DescriptionStyleModel",
            "description_width": "",
            "_view_module": "@jupyter-widgets/base",
            "_model_module_version": "1.5.0",
            "_view_count": null,
            "_view_module_version": "1.2.0",
            "_model_module": "@jupyter-widgets/controls"
          }
        },
        "564cefcd50a64208889eccf2f0456e58": {
          "model_module": "@jupyter-widgets/base",
          "model_name": "LayoutModel",
          "state": {
            "_view_name": "LayoutView",
            "grid_template_rows": null,
            "right": null,
            "justify_content": null,
            "_view_module": "@jupyter-widgets/base",
            "overflow": null,
            "_model_module_version": "1.2.0",
            "_view_count": null,
            "flex_flow": null,
            "width": null,
            "min_width": null,
            "border": null,
            "align_items": null,
            "bottom": null,
            "_model_module": "@jupyter-widgets/base",
            "top": null,
            "grid_column": null,
            "overflow_y": null,
            "overflow_x": null,
            "grid_auto_flow": null,
            "grid_area": null,
            "grid_template_columns": null,
            "flex": null,
            "_model_name": "LayoutModel",
            "justify_items": null,
            "grid_row": null,
            "max_height": null,
            "align_content": null,
            "visibility": null,
            "align_self": null,
            "height": null,
            "min_height": null,
            "padding": null,
            "grid_auto_rows": null,
            "grid_gap": null,
            "max_width": null,
            "order": null,
            "_view_module_version": "1.2.0",
            "grid_template_areas": null,
            "object_position": null,
            "object_fit": null,
            "grid_auto_columns": null,
            "margin": null,
            "display": null,
            "left": null
          }
        },
        "14c9ad3717e54974af8a878fae1a15de": {
          "model_module": "@jupyter-widgets/controls",
          "model_name": "HBoxModel",
          "state": {
            "_view_name": "HBoxView",
            "_dom_classes": [],
            "_model_name": "HBoxModel",
            "_view_module": "@jupyter-widgets/controls",
            "_model_module_version": "1.5.0",
            "_view_count": null,
            "_view_module_version": "1.5.0",
            "box_style": "",
            "layout": "IPY_MODEL_f78e705afe8d4aea87075be5039af1ba",
            "_model_module": "@jupyter-widgets/controls",
            "children": [
              "IPY_MODEL_96d06c7345104153908dd62e0020e5a5",
              "IPY_MODEL_485d4bb7cd6a46d8af82f93e1d82bdd1"
            ]
          }
        },
        "f78e705afe8d4aea87075be5039af1ba": {
          "model_module": "@jupyter-widgets/base",
          "model_name": "LayoutModel",
          "state": {
            "_view_name": "LayoutView",
            "grid_template_rows": null,
            "right": null,
            "justify_content": null,
            "_view_module": "@jupyter-widgets/base",
            "overflow": null,
            "_model_module_version": "1.2.0",
            "_view_count": null,
            "flex_flow": null,
            "width": null,
            "min_width": null,
            "border": null,
            "align_items": null,
            "bottom": null,
            "_model_module": "@jupyter-widgets/base",
            "top": null,
            "grid_column": null,
            "overflow_y": null,
            "overflow_x": null,
            "grid_auto_flow": null,
            "grid_area": null,
            "grid_template_columns": null,
            "flex": null,
            "_model_name": "LayoutModel",
            "justify_items": null,
            "grid_row": null,
            "max_height": null,
            "align_content": null,
            "visibility": null,
            "align_self": null,
            "height": null,
            "min_height": null,
            "padding": null,
            "grid_auto_rows": null,
            "grid_gap": null,
            "max_width": null,
            "order": null,
            "_view_module_version": "1.2.0",
            "grid_template_areas": null,
            "object_position": null,
            "object_fit": null,
            "grid_auto_columns": null,
            "margin": null,
            "display": null,
            "left": null
          }
        },
        "96d06c7345104153908dd62e0020e5a5": {
          "model_module": "@jupyter-widgets/controls",
          "model_name": "FloatProgressModel",
          "state": {
            "_view_name": "ProgressView",
            "style": "IPY_MODEL_190fc71844764dadbcca73bee85c8688",
            "_dom_classes": [],
            "description": "  0%",
            "_model_name": "FloatProgressModel",
            "bar_style": "info",
            "max": 1,
            "_view_module": "@jupyter-widgets/controls",
            "_model_module_version": "1.5.0",
            "value": 0,
            "_view_count": null,
            "_view_module_version": "1.5.0",
            "orientation": "horizontal",
            "min": 0,
            "description_tooltip": null,
            "_model_module": "@jupyter-widgets/controls",
            "layout": "IPY_MODEL_c4918947aa124e0f86b7c8632b997313"
          }
        },
        "485d4bb7cd6a46d8af82f93e1d82bdd1": {
          "model_module": "@jupyter-widgets/controls",
          "model_name": "HTMLModel",
          "state": {
            "_view_name": "HTMLView",
            "style": "IPY_MODEL_b51e16a978934ed9b8ded0e354e73200",
            "_dom_classes": [],
            "description": "",
            "_model_name": "HTMLModel",
            "placeholder": "​",
            "_view_module": "@jupyter-widgets/controls",
            "_model_module_version": "1.5.0",
            "value": " 0/5148 [00:00&lt;?, ?it/s]",
            "_view_count": null,
            "_view_module_version": "1.5.0",
            "description_tooltip": null,
            "_model_module": "@jupyter-widgets/controls",
            "layout": "IPY_MODEL_0d1f595f7f0642c08a2f30c2aa32b91f"
          }
        },
        "190fc71844764dadbcca73bee85c8688": {
          "model_module": "@jupyter-widgets/controls",
          "model_name": "ProgressStyleModel",
          "state": {
            "_view_name": "StyleView",
            "_model_name": "ProgressStyleModel",
            "description_width": "initial",
            "_view_module": "@jupyter-widgets/base",
            "_model_module_version": "1.5.0",
            "_view_count": null,
            "_view_module_version": "1.2.0",
            "bar_color": null,
            "_model_module": "@jupyter-widgets/controls"
          }
        },
        "c4918947aa124e0f86b7c8632b997313": {
          "model_module": "@jupyter-widgets/base",
          "model_name": "LayoutModel",
          "state": {
            "_view_name": "LayoutView",
            "grid_template_rows": null,
            "right": null,
            "justify_content": null,
            "_view_module": "@jupyter-widgets/base",
            "overflow": null,
            "_model_module_version": "1.2.0",
            "_view_count": null,
            "flex_flow": null,
            "width": null,
            "min_width": null,
            "border": null,
            "align_items": null,
            "bottom": null,
            "_model_module": "@jupyter-widgets/base",
            "top": null,
            "grid_column": null,
            "overflow_y": null,
            "overflow_x": null,
            "grid_auto_flow": null,
            "grid_area": null,
            "grid_template_columns": null,
            "flex": null,
            "_model_name": "LayoutModel",
            "justify_items": null,
            "grid_row": null,
            "max_height": null,
            "align_content": null,
            "visibility": null,
            "align_self": null,
            "height": null,
            "min_height": null,
            "padding": null,
            "grid_auto_rows": null,
            "grid_gap": null,
            "max_width": null,
            "order": null,
            "_view_module_version": "1.2.0",
            "grid_template_areas": null,
            "object_position": null,
            "object_fit": null,
            "grid_auto_columns": null,
            "margin": null,
            "display": null,
            "left": null
          }
        },
        "b51e16a978934ed9b8ded0e354e73200": {
          "model_module": "@jupyter-widgets/controls",
          "model_name": "DescriptionStyleModel",
          "state": {
            "_view_name": "StyleView",
            "_model_name": "DescriptionStyleModel",
            "description_width": "",
            "_view_module": "@jupyter-widgets/base",
            "_model_module_version": "1.5.0",
            "_view_count": null,
            "_view_module_version": "1.2.0",
            "_model_module": "@jupyter-widgets/controls"
          }
        },
        "0d1f595f7f0642c08a2f30c2aa32b91f": {
          "model_module": "@jupyter-widgets/base",
          "model_name": "LayoutModel",
          "state": {
            "_view_name": "LayoutView",
            "grid_template_rows": null,
            "right": null,
            "justify_content": null,
            "_view_module": "@jupyter-widgets/base",
            "overflow": null,
            "_model_module_version": "1.2.0",
            "_view_count": null,
            "flex_flow": null,
            "width": null,
            "min_width": null,
            "border": null,
            "align_items": null,
            "bottom": null,
            "_model_module": "@jupyter-widgets/base",
            "top": null,
            "grid_column": null,
            "overflow_y": null,
            "overflow_x": null,
            "grid_auto_flow": null,
            "grid_area": null,
            "grid_template_columns": null,
            "flex": null,
            "_model_name": "LayoutModel",
            "justify_items": null,
            "grid_row": null,
            "max_height": null,
            "align_content": null,
            "visibility": null,
            "align_self": null,
            "height": null,
            "min_height": null,
            "padding": null,
            "grid_auto_rows": null,
            "grid_gap": null,
            "max_width": null,
            "order": null,
            "_view_module_version": "1.2.0",
            "grid_template_areas": null,
            "object_position": null,
            "object_fit": null,
            "grid_auto_columns": null,
            "margin": null,
            "display": null,
            "left": null
          }
        }
      }
    }
  },
  "cells": [
    {
      "cell_type": "markdown",
      "metadata": {
        "id": "view-in-github",
        "colab_type": "text"
      },
      "source": [
        "<a href=\"https://colab.research.google.com/github/kani91/ProgrammingAssignment2/blob/master/7_reading_convolutinal_layers_lab.ipynb\" target=\"_parent\"><img src=\"https://colab.research.google.com/assets/colab-badge.svg\" alt=\"Open In Colab\"/></a>"
      ]
    },
    {
      "cell_type": "markdown",
      "metadata": {
        "id": "_1IhE7SsWSMZ",
        "colab_type": "text"
      },
      "source": [
        "# Convolutional Model"
      ]
    },
    {
      "cell_type": "markdown",
      "metadata": {
        "id": "IkmcN1n_WSMa",
        "colab_type": "text"
      },
      "source": [
        "### Introduction"
      ]
    },
    {
      "cell_type": "markdown",
      "metadata": {
        "id": "MyY_OYibWSMb",
        "colab_type": "text"
      },
      "source": [
        "In this lesson, we'll work through constructing a convolutional neural network in Pytorch, and understanding the transformations that occur in our different layers.  We'll start by interpreting a premade neural network, and then we'll move onto constructing our own neural network let's get started."
      ]
    },
    {
      "cell_type": "markdown",
      "metadata": {
        "id": "JCi8y4ryWSMb",
        "colab_type": "text"
      },
      "source": [
        "### Loading our Data"
      ]
    },
    {
      "cell_type": "markdown",
      "metadata": {
        "id": "iyIDjmRWWSMc",
        "colab_type": "text"
      },
      "source": [
        "To begin, we'll set the device as `cuda` so that we can perform calculations on the GPU and thus speed up training time."
      ]
    },
    {
      "cell_type": "code",
      "metadata": {
        "id": "vN06yW3_WSMc",
        "colab_type": "code",
        "colab": {
          "base_uri": "https://localhost:8080/",
          "height": 33
        },
        "outputId": "ed7fb013-ee6b-4f21-a469-8e612050430e"
      },
      "source": [
        "import torch\n",
        "torch.device(\"cuda\")"
      ],
      "execution_count": null,
      "outputs": [
        {
          "output_type": "execute_result",
          "data": {
            "text/plain": [
              "device(type='cuda')"
            ]
          },
          "metadata": {
            "tags": []
          },
          "execution_count": 1
        }
      ]
    },
    {
      "cell_type": "markdown",
      "metadata": {
        "id": "s8HQXtOqWSMh",
        "colab_type": "text"
      },
      "source": [
        "Let's begin by loading our Fashion MNIST dataset."
      ]
    },
    {
      "cell_type": "markdown",
      "metadata": {
        "id": "WOVL-bKvWSMh",
        "colab_type": "text"
      },
      "source": [
        "Import the `datasets` and `transforms` methods from the `torchvision` module.  Then import the FashionMNIST dataset making sure to apply the `ToTensor` transformation."
      ]
    },
    {
      "cell_type": "code",
      "metadata": {
        "id": "aEZiHX90WSMi",
        "colab_type": "code",
        "colab": {}
      },
      "source": [
        "from torchvision import transforms, datasets"
      ],
      "execution_count": null,
      "outputs": []
    },
    {
      "cell_type": "code",
      "metadata": {
        "id": "WMjIA3FbWSMk",
        "colab_type": "code",
        "colab": {
          "base_uri": "https://localhost:8080/",
          "height": 365,
          "referenced_widgets": [
            "07fb7be193094f448bc333b4af06da05",
            "103beb39287e4564a2c0e9fdd8f4c3e1",
            "6b571b42b6fb4053b21443539d10da44",
            "219b814d15b345aba0e36f75878721ef",
            "46d662b17039407082f209f15e107c44",
            "bff413b4f8ec481e8cffbc953ea87c63",
            "46a93d7e6b1849b2bd96d574bdc11919",
            "4f75e826a7e14f6b8db6026765e12b52",
            "c39b1f39813e4434864380aa0bc58b58",
            "8aa97479ca3b42169b725d4cd3826017",
            "b0f9f92de0fc49eea694b9ca3f8b9328",
            "9a1c52211b194db9a15c8b6b83ca21a3",
            "67a754d104b049eda97ea789eb3e3412",
            "d8d4c6d06ac2425394845b043c8b1a33",
            "5c61cdec42894ac5bd999180ca5a7b86",
            "0486d1602ce247c5b28eb4a8f0862698",
            "6ccd7f8d49f743e7af03caa5db84b32c",
            "5c5bca37808d484ea3ae71fd045b2cd5",
            "f7fbfca65edc4373bc30434441dcbfa5",
            "b20f186d7c744acaa21e6cbfc416a88c",
            "141de75216ab45759efefbba81619fc4",
            "1ea6835f41254935a7c1e393572224ed",
            "f7af9a5be6c049e4b5b59e85155ea894",
            "564cefcd50a64208889eccf2f0456e58",
            "14c9ad3717e54974af8a878fae1a15de",
            "f78e705afe8d4aea87075be5039af1ba",
            "96d06c7345104153908dd62e0020e5a5",
            "485d4bb7cd6a46d8af82f93e1d82bdd1",
            "190fc71844764dadbcca73bee85c8688",
            "c4918947aa124e0f86b7c8632b997313",
            "b51e16a978934ed9b8ded0e354e73200",
            "0d1f595f7f0642c08a2f30c2aa32b91f"
          ]
        },
        "outputId": "2b531e8f-6e9f-49db-d6ed-f22a8dfbc41d"
      },
      "source": [
        "train = datasets.FashionMNIST(\"\", train = True, download = True, \n",
        "                       transform = transforms.Compose([transforms.ToTensor()]))"
      ],
      "execution_count": null,
      "outputs": [
        {
          "output_type": "stream",
          "text": [
            "Downloading http://fashion-mnist.s3-website.eu-central-1.amazonaws.com/train-images-idx3-ubyte.gz to FashionMNIST/raw/train-images-idx3-ubyte.gz\n"
          ],
          "name": "stdout"
        },
        {
          "output_type": "display_data",
          "data": {
            "application/vnd.jupyter.widget-view+json": {
              "model_id": "07fb7be193094f448bc333b4af06da05",
              "version_minor": 0,
              "version_major": 2
            },
            "text/plain": [
              "HBox(children=(FloatProgress(value=1.0, bar_style='info', max=1.0), HTML(value='')))"
            ]
          },
          "metadata": {
            "tags": []
          }
        },
        {
          "output_type": "stream",
          "text": [
            "Extracting FashionMNIST/raw/train-images-idx3-ubyte.gz to FashionMNIST/raw\n",
            "Downloading http://fashion-mnist.s3-website.eu-central-1.amazonaws.com/train-labels-idx1-ubyte.gz to FashionMNIST/raw/train-labels-idx1-ubyte.gz\n"
          ],
          "name": "stdout"
        },
        {
          "output_type": "display_data",
          "data": {
            "application/vnd.jupyter.widget-view+json": {
              "model_id": "c39b1f39813e4434864380aa0bc58b58",
              "version_minor": 0,
              "version_major": 2
            },
            "text/plain": [
              "HBox(children=(FloatProgress(value=1.0, bar_style='info', max=1.0), HTML(value='')))"
            ]
          },
          "metadata": {
            "tags": []
          }
        },
        {
          "output_type": "stream",
          "text": [
            "Extracting FashionMNIST/raw/train-labels-idx1-ubyte.gz to FashionMNIST/raw\n",
            "Downloading http://fashion-mnist.s3-website.eu-central-1.amazonaws.com/t10k-images-idx3-ubyte.gz to FashionMNIST/raw/t10k-images-idx3-ubyte.gz\n"
          ],
          "name": "stdout"
        },
        {
          "output_type": "display_data",
          "data": {
            "application/vnd.jupyter.widget-view+json": {
              "model_id": "6ccd7f8d49f743e7af03caa5db84b32c",
              "version_minor": 0,
              "version_major": 2
            },
            "text/plain": [
              "HBox(children=(FloatProgress(value=1.0, bar_style='info', max=1.0), HTML(value='')))"
            ]
          },
          "metadata": {
            "tags": []
          }
        },
        {
          "output_type": "stream",
          "text": [
            "Extracting FashionMNIST/raw/t10k-images-idx3-ubyte.gz to FashionMNIST/raw\n",
            "Downloading http://fashion-mnist.s3-website.eu-central-1.amazonaws.com/t10k-labels-idx1-ubyte.gz to FashionMNIST/raw/t10k-labels-idx1-ubyte.gz\n"
          ],
          "name": "stdout"
        },
        {
          "output_type": "display_data",
          "data": {
            "application/vnd.jupyter.widget-view+json": {
              "model_id": "14c9ad3717e54974af8a878fae1a15de",
              "version_minor": 0,
              "version_major": 2
            },
            "text/plain": [
              "HBox(children=(FloatProgress(value=1.0, bar_style='info', max=1.0), HTML(value='')))"
            ]
          },
          "metadata": {
            "tags": []
          }
        },
        {
          "output_type": "stream",
          "text": [
            "Extracting FashionMNIST/raw/t10k-labels-idx1-ubyte.gz to FashionMNIST/raw\n",
            "Processing...\n"
          ],
          "name": "stdout"
        },
        {
          "output_type": "stream",
          "text": [
            "/usr/local/lib/python3.6/dist-packages/torchvision/datasets/mnist.py:469: UserWarning: The given NumPy array is not writeable, and PyTorch does not support non-writeable tensors. This means you can write to the underlying (supposedly non-writeable) NumPy array using the tensor. You may want to copy the array to protect its data or make it writeable before converting it to a tensor. This type of warning will be suppressed for the rest of this program. (Triggered internally at  /pytorch/torch/csrc/utils/tensor_numpy.cpp:141.)\n",
            "  return torch.from_numpy(parsed.astype(m[2], copy=False)).view(*s)\n"
          ],
          "name": "stderr"
        },
        {
          "output_type": "stream",
          "text": [
            "Done!\n"
          ],
          "name": "stdout"
        }
      ]
    },
    {
      "cell_type": "code",
      "metadata": {
        "id": "Oebf1ImdWSMm",
        "colab_type": "code",
        "colab": {}
      },
      "source": [
        "test = datasets.FashionMNIST(\"\", train = False, download = True, \n",
        "                       transform = transforms.Compose([transforms.ToTensor()]))"
      ],
      "execution_count": null,
      "outputs": []
    },
    {
      "cell_type": "markdown",
      "metadata": {
        "id": "pyZ4DPybWSMp",
        "colab_type": "text"
      },
      "source": [
        "Now let's `reshape` the data so that each batch has $100$ images inside of it, and each image has one channel, with a $28x28$ grid of pixels."
      ]
    },
    {
      "cell_type": "code",
      "metadata": {
        "id": "VSmpVsyCWSMp",
        "colab_type": "code",
        "colab": {}
      },
      "source": [
        "# train.data\n",
        "X_train_reshaped =train.data.reshape(600, 100, 1, 28, 28)"
      ],
      "execution_count": null,
      "outputs": []
    },
    {
      "cell_type": "code",
      "metadata": {
        "id": "U2726H31WSMr",
        "colab_type": "code",
        "colab": {
          "base_uri": "https://localhost:8080/",
          "height": 33
        },
        "outputId": "664435ee-3a2c-4550-b210-e1305185e49e"
      },
      "source": [
        "X_train_reshaped.shape\n",
        "# torch.Size([1200, 50, 1, 28, 28])"
      ],
      "execution_count": null,
      "outputs": [
        {
          "output_type": "execute_result",
          "data": {
            "text/plain": [
              "torch.Size([600, 100, 1, 28, 28])"
            ]
          },
          "metadata": {
            "tags": []
          },
          "execution_count": 27
        }
      ]
    },
    {
      "cell_type": "markdown",
      "metadata": {
        "id": "9prThmR9WSMv",
        "colab_type": "text"
      },
      "source": [
        "Then resize the test data into batches of 100."
      ]
    },
    {
      "cell_type": "code",
      "metadata": {
        "id": "DutNj4LcWSMv",
        "colab_type": "code",
        "colab": {}
      },
      "source": [
        "# train.targets\n",
        "y_reshaped = train.targets.reshape(600, 100)"
      ],
      "execution_count": null,
      "outputs": []
    },
    {
      "cell_type": "code",
      "metadata": {
        "id": "_GfADcoUWSMy",
        "colab_type": "code",
        "colab": {
          "base_uri": "https://localhost:8080/",
          "height": 33
        },
        "outputId": "ab3c6a39-b8b0-4bcd-96ac-2e0b56f8c3de"
      },
      "source": [
        "y_reshaped.shape\n",
        "# torch.Size([600, 100])"
      ],
      "execution_count": null,
      "outputs": [
        {
          "output_type": "execute_result",
          "data": {
            "text/plain": [
              "torch.Size([1200, 50])"
            ]
          },
          "metadata": {
            "tags": []
          },
          "execution_count": 25
        }
      ]
    },
    {
      "cell_type": "markdown",
      "metadata": {
        "id": "KwkRRdk5WSM0",
        "colab_type": "text"
      },
      "source": [
        "Finally, we'll zip together the reshaped training data."
      ]
    },
    {
      "cell_type": "code",
      "metadata": {
        "id": "RXLz2r98WSM0",
        "colab_type": "code",
        "colab": {}
      },
      "source": [
        "combined = list(zip(X_train_reshaped, y_reshaped))"
      ],
      "execution_count": null,
      "outputs": []
    },
    {
      "cell_type": "markdown",
      "metadata": {
        "id": "lCdfGFfuWSM5",
        "colab_type": "text"
      },
      "source": [
        "### Initializing a Neural Network"
      ]
    },
    {
      "cell_type": "markdown",
      "metadata": {
        "id": "B1YOqi99WSM6",
        "colab_type": "text"
      },
      "source": [
        "Now this [blog post](https://towardsdatascience.com/build-a-fashion-mnist-cnn-pytorch-style-efb297e22582) did the work of defining a neural network for us. \n",
        "\n",
        "It will be our task to unpack and interpret what's occurring in the different layers.\n",
        "\n",
        "Ok, let's see it."
      ]
    },
    {
      "cell_type": "code",
      "metadata": {
        "id": "knqlsQI7WSM7",
        "colab_type": "code",
        "colab": {}
      },
      "source": [
        "import torch.nn as nn\n",
        "import torch.nn.functional as F\n",
        "class Net(nn.Module):\n",
        "  def __init__(self):\n",
        "    super().__init__()\n",
        "    self.conv1 = nn.Conv2d(in_channels=1, out_channels=6, kernel_size=5)\n",
        "    self.conv2 = nn.Conv2d(in_channels=6, out_channels=12, kernel_size=5)\n",
        "    self.fc1 = nn.Linear(in_features=12*4*4, out_features=120)\n",
        "    self.fc2 = nn.Linear(in_features=120, out_features=60)\n",
        "    self.out = nn.Linear(in_features=60, out_features=10)\n",
        "\n",
        "  # define forward function\n",
        "  def forward(self, t):\n",
        "    t = self.conv1(t)\n",
        "    t = F.relu(t)\n",
        "    t = F.max_pool2d(t, kernel_size=2, stride=2)\n",
        "    # conv 2\n",
        "    t = self.conv2(t)\n",
        "    t = F.relu(t)\n",
        "    t = F.max_pool2d(t, kernel_size=2, stride=2)\n",
        "    # fc1\n",
        "    t = t.reshape(-1, 12*4*4)\n",
        "    t = self.fc1(t)\n",
        "    t = F.relu(t)\n",
        "    # fc2\n",
        "    t = self.fc2(t)\n",
        "    t = F.relu(t)\n",
        "    # output\n",
        "    t = self.out(t)\n",
        "    return F.log_softmax(t, dim = 1)"
      ],
      "execution_count": null,
      "outputs": []
    },
    {
      "cell_type": "markdown",
      "metadata": {
        "id": "e7FyhUGPWSM_",
        "colab_type": "text"
      },
      "source": [
        "> Now let's initialize the neural network and pass through a batch of data."
      ]
    },
    {
      "cell_type": "markdown",
      "metadata": {
        "id": "-cnm2ZeDWSNA",
        "colab_type": "text"
      },
      "source": [
        "Initialize the neural network."
      ]
    },
    {
      "cell_type": "code",
      "metadata": {
        "id": "tVKIekbLWSNA",
        "colab_type": "code",
        "colab": {
          "base_uri": "https://localhost:8080/",
          "height": 133
        },
        "outputId": "adcdc465-74ba-47cf-fca6-0f55549bcd44"
      },
      "source": [
        "net = Net()\n",
        "net\n",
        "\n",
        "# Net(\n",
        "#   (conv1): Conv2d(1, 6, kernel_size=(5, 5), stride=(1, 1))\n",
        "#   (conv2): Conv2d(6, 12, kernel_size=(5, 5), stride=(1, 1))\n",
        "#   (fc1): Linear(in_features=192, out_features=120, bias=True)\n",
        "#   (fc2): Linear(in_features=120, out_features=60, bias=True)\n",
        "#   (out): Linear(in_features=60, out_features=10, bias=True)\n",
        "# )"
      ],
      "execution_count": null,
      "outputs": [
        {
          "output_type": "execute_result",
          "data": {
            "text/plain": [
              "Net(\n",
              "  (conv1): Conv2d(1, 6, kernel_size=(5, 5), stride=(1, 1))\n",
              "  (conv2): Conv2d(6, 12, kernel_size=(5, 5), stride=(1, 1))\n",
              "  (fc1): Linear(in_features=192, out_features=120, bias=True)\n",
              "  (fc2): Linear(in_features=120, out_features=60, bias=True)\n",
              "  (out): Linear(in_features=60, out_features=10, bias=True)\n",
              ")"
            ]
          },
          "metadata": {
            "tags": []
          },
          "execution_count": 30
        }
      ]
    },
    {
      "cell_type": "markdown",
      "metadata": {
        "id": "9iVXpZjNWSNC",
        "colab_type": "text"
      },
      "source": [
        "And select the first batch of data."
      ]
    },
    {
      "cell_type": "code",
      "metadata": {
        "id": "PA7uIs58WSND",
        "colab_type": "code",
        "colab": {
          "base_uri": "https://localhost:8080/",
          "height": 33
        },
        "outputId": "e3d16a6e-c1ef-4d76-dab5-5cdf52651014"
      },
      "source": [
        "first_batch = X_train_reshaped[0]\n",
        "\n",
        "first_batch.shape\n",
        "\n",
        "# torch.Size([100, 1, 28, 28])"
      ],
      "execution_count": null,
      "outputs": [
        {
          "output_type": "execute_result",
          "data": {
            "text/plain": [
              "torch.Size([100, 1, 28, 28])"
            ]
          },
          "metadata": {
            "tags": []
          },
          "execution_count": 34
        }
      ]
    },
    {
      "cell_type": "code",
      "metadata": {
        "id": "nqiYLtpia2hM",
        "colab_type": "code",
        "colab": {}
      },
      "source": [
        "import torch.nn as nn\n",
        "conv = nn.Conv2d(in_channels=1, out_channels=6, kernel_size=3)"
      ],
      "execution_count": null,
      "outputs": []
    },
    {
      "cell_type": "markdown",
      "metadata": {
        "id": "B8EOEEwgWSNF",
        "colab_type": "text"
      },
      "source": [
        "Ok, now let's break down what occurs at each layer.  To do so, let's select the first convolutional layer, `net.conv1` from our neural network and pass through some data."
      ]
    },
    {
      "cell_type": "code",
      "metadata": {
        "id": "_juUx4QzWSNF",
        "colab_type": "code",
        "colab": {
          "base_uri": "https://localhost:8080/",
          "height": 33
        },
        "outputId": "86d66a95-868d-48af-c55c-ddd2cde96576"
      },
      "source": [
        "conv_outputs = net.conv1(first_batch.float())\n",
        "conv_outputs.shape\n",
        "\n",
        "# torch.Size([100, 6, 24, 24])"
      ],
      "execution_count": null,
      "outputs": [
        {
          "output_type": "execute_result",
          "data": {
            "text/plain": [
              "torch.Size([100, 6, 24, 24])"
            ]
          },
          "metadata": {
            "tags": []
          },
          "execution_count": 48
        }
      ]
    },
    {
      "cell_type": "code",
      "metadata": {
        "id": "urTzAmovbBoR",
        "colab_type": "code",
        "colab": {
          "base_uri": "https://localhost:8080/",
          "height": 33
        },
        "outputId": "dddb2dfc-77fc-435b-def1-975e9c0cc3fc"
      },
      "source": [
        ""
      ],
      "execution_count": null,
      "outputs": [
        {
          "output_type": "execute_result",
          "data": {
            "text/plain": [
              "Conv2d(1, 6, kernel_size=(5, 5), stride=(1, 1))"
            ]
          },
          "metadata": {
            "tags": []
          },
          "execution_count": 44
        }
      ]
    },
    {
      "cell_type": "markdown",
      "metadata": {
        "id": "pBpioSBdWSNI",
        "colab_type": "text"
      },
      "source": [
        "> This data gets passed to a relu function so call `net.conv1` again, and this time pass the outputs of `conv1` to the `F.relu` function."
      ]
    },
    {
      "cell_type": "code",
      "metadata": {
        "id": "zzOYowA_WSNI",
        "colab_type": "code",
        "colab": {}
      },
      "source": [
        "ouput_relu_1 = F.relu(net.conv1(first_batch.float()))"
      ],
      "execution_count": null,
      "outputs": []
    },
    {
      "cell_type": "code",
      "metadata": {
        "id": "MlGRNWjEWSNK",
        "colab_type": "code",
        "colab": {
          "base_uri": "https://localhost:8080/",
          "height": 33
        },
        "outputId": "33d90270-5192-4c76-c68c-c0612ebc169b"
      },
      "source": [
        "ouput_relu_1.shape"
      ],
      "execution_count": null,
      "outputs": [
        {
          "output_type": "execute_result",
          "data": {
            "text/plain": [
              "torch.Size([100, 6, 24, 24])"
            ]
          },
          "metadata": {
            "tags": []
          },
          "execution_count": 51
        }
      ]
    },
    {
      "cell_type": "markdown",
      "metadata": {
        "id": "o0hhPk2mWSNN",
        "colab_type": "text"
      },
      "source": [
        "> Next pass the outputs of `output_relu_1` to a `max_pool2d` function with a `kernel_size` of 2 to see the change in outputs. "
      ]
    },
    {
      "cell_type": "code",
      "metadata": {
        "id": "lo0bO_4EWSNN",
        "colab_type": "code",
        "colab": {
          "base_uri": "https://localhost:8080/",
          "height": 33
        },
        "outputId": "f6ecb588-8aaa-435e-ea20-1ff05773bf9a"
      },
      "source": [
        "max_pool = nn.MaxPool2d(2)\n",
        "output_maxpool_1 = max_pool(ouput_relu_1)\n",
        "output_maxpool_1.shape\n",
        "\n",
        "# torch.Size([100, 6, 12, 12])"
      ],
      "execution_count": null,
      "outputs": [
        {
          "output_type": "execute_result",
          "data": {
            "text/plain": [
              "torch.Size([100, 6, 12, 12])"
            ]
          },
          "metadata": {
            "tags": []
          },
          "execution_count": 54
        }
      ]
    },
    {
      "cell_type": "code",
      "metadata": {
        "id": "CoaeUGPpb-dd",
        "colab_type": "code",
        "colab": {}
      },
      "source": [
        ""
      ],
      "execution_count": null,
      "outputs": []
    },
    {
      "cell_type": "markdown",
      "metadata": {
        "id": "0iZNOSDsWSNP",
        "colab_type": "text"
      },
      "source": [
        "We can see that this reduced the matrix from a 24 by 24 to now a 12x12 matrix.  Now that we finished with the `conv1` layer followed by a relu and a maxpool, let's move onto the `conv2` sequence."
      ]
    },
    {
      "cell_type": "markdown",
      "metadata": {
        "id": "Vqi-mBgtWSNQ",
        "colab_type": "text"
      },
      "source": [
        "```python\n",
        "class Net(nn.Module):\n",
        "  def __init__(self):\n",
        "    super().__init__()\n",
        "    self.conv1 = nn.Conv2d(in_channels=1, out_channels=6, kernel_size=5)\n",
        "    self.conv2 = nn.Conv2d(in_channels=6, out_channels=12, kernel_size=5)\n",
        "    self.fc1 = nn.Linear(in_features=12*4*4, out_features=120)\n",
        "    self.fc2 = nn.Linear(in_features=120, out_features=60)\n",
        "    self.out = nn.Linear(in_features=60, out_features=10)\n",
        "\n",
        "  # define forward function\n",
        "  def forward(self, t):\n",
        "    t = self.conv1(t)\n",
        "    t = F.relu(t)\n",
        "    t = F.max_pool2d(t, kernel_size=2, stride=2)\n",
        "    # conv 2\n",
        "    t = self.conv2(t)\n",
        "    t = F.relu(t)\n",
        "    t = F.max_pool2d(t, kernel_size=2, stride=2)\n",
        "    # fc1\n",
        "    t = t.reshape(-1, 12*4*4)\n",
        "    t = self.fc1(t)\n",
        "    t = F.relu(t)\n",
        "    # fc2\n",
        "    t = self.fc2(t)\n",
        "    t = F.relu(t)\n",
        "    # output\n",
        "    t = self.out(t)\n",
        "    return F.log_softmax(t, dim = 1)\n",
        "```"
      ]
    },
    {
      "cell_type": "markdown",
      "metadata": {
        "id": "UnRHPgauWSNQ",
        "colab_type": "text"
      },
      "source": [
        "Ok, so let's get a sense of occurs in the next convolutional layer. \n",
        "```python\n",
        "self.conv2 = nn.Conv2d(in_channels=6, out_channels=12, kernel_size=5)\n",
        "```"
      ]
    },
    {
      "cell_type": "markdown",
      "metadata": {
        "id": "TUKLJJrhWSNQ",
        "colab_type": "text"
      },
      "source": [
        "We again have a kernel size of 5, this time applied to an input of $12$, which we get from the preceding layer. "
      ]
    },
    {
      "cell_type": "markdown",
      "metadata": {
        "id": "qc0VCN7yWSNR",
        "colab_type": "text"
      },
      "source": [
        "Now if we look at how this convolutional layer is used in the forward function, we can begin to calculate the output shape that comes next."
      ]
    },
    {
      "cell_type": "code",
      "metadata": {
        "id": "HA3d1PctWSNR",
        "colab_type": "code",
        "colab": {}
      },
      "source": [
        "t = net.conv2(output_maxpool_1)\n",
        "t = F.relu(t)\n",
        "t = F.max_pool2d(t, kernel_size=2, stride=2)"
      ],
      "execution_count": null,
      "outputs": []
    },
    {
      "cell_type": "markdown",
      "metadata": {
        "id": "LVc8rFj_WSNT",
        "colab_type": "text"
      },
      "source": [
        "So we start with an output from previous sequence."
      ]
    },
    {
      "cell_type": "code",
      "metadata": {
        "id": "_0gxkp7cWSNU",
        "colab_type": "code",
        "colab": {
          "base_uri": "https://localhost:8080/",
          "height": 33
        },
        "outputId": "8b986a01-8a28-47ce-ca1c-eceb7c0c6e90"
      },
      "source": [
        "output_maxpool_1.shape"
      ],
      "execution_count": null,
      "outputs": [
        {
          "output_type": "execute_result",
          "data": {
            "text/plain": [
              "torch.Size([100, 6, 12, 12])"
            ]
          },
          "metadata": {
            "tags": []
          },
          "execution_count": 63
        }
      ]
    },
    {
      "cell_type": "markdown",
      "metadata": {
        "id": "JQO66LhPWSNX",
        "colab_type": "text"
      },
      "source": [
        "Then, the `conv2` layer is executed, passed through a relu, followed by a maxpool of 2.  \n",
        "\n",
        "* `conv2 > relu > maxpool`\n",
        "\n",
        "Without using Pytorch, calculate the resulting output.  Remember that our formula for calculating the output shape is."
      ]
    },
    {
      "cell_type": "markdown",
      "metadata": {
        "id": "CIhc7yNYWSNX",
        "colab_type": "text"
      },
      "source": [
        "$output = \\frac{i - k + 2p}{s} + 1$ "
      ]
    },
    {
      "cell_type": "markdown",
      "metadata": {
        "id": "F2Nsc2SXWSNX",
        "colab_type": "text"
      },
      "source": [
        "First assign the numbers that we'll need for calculation."
      ]
    },
    {
      "cell_type": "code",
      "metadata": {
        "id": "ZJDo_sddWSNY",
        "colab_type": "code",
        "colab": {}
      },
      "source": [
        "i = 12\n",
        "k = 5\n",
        "p = 0\n",
        "s = 2"
      ],
      "execution_count": null,
      "outputs": []
    },
    {
      "cell_type": "markdown",
      "metadata": {
        "id": "L4r9-dIFWSNa",
        "colab_type": "text"
      },
      "source": [
        "> Then translate the function above into code to predict the dimensions of the output."
      ]
    },
    {
      "cell_type": "code",
      "metadata": {
        "id": "2jlBCCmeWSNb",
        "colab_type": "code",
        "colab": {
          "base_uri": "https://localhost:8080/",
          "height": 33
        },
        "outputId": "857bf345-b462-4cb4-903c-3eca0a97e5d9"
      },
      "source": [
        "def olp(i,k,p,s):\n",
        "  return (i-k+2*p)/s+1\n",
        "olp(i,k,p,s)\n",
        "#  4.5"
      ],
      "execution_count": null,
      "outputs": [
        {
          "output_type": "execute_result",
          "data": {
            "text/plain": [
              "1.5"
            ]
          },
          "metadata": {
            "tags": []
          },
          "execution_count": 78
        }
      ]
    },
    {
      "cell_type": "markdown",
      "metadata": {
        "id": "Whg7bAO4WSNd",
        "colab_type": "text"
      },
      "source": [
        "So rounding down, we get a $12$ output channels, each with a 4x4 matrix."
      ]
    },
    {
      "cell_type": "code",
      "metadata": {
        "id": "FkGfxMeEWSNe",
        "colab_type": "code",
        "colab": {
          "base_uri": "https://localhost:8080/",
          "height": 33
        },
        "outputId": "57edcf79-8d5c-4a1a-b6d4-d0808144de73"
      },
      "source": [
        "F.max_pool2d(F.relu(net.conv2(output_maxpool_1)), 2).shape"
      ],
      "execution_count": null,
      "outputs": [
        {
          "output_type": "execute_result",
          "data": {
            "text/plain": [
              "torch.Size([100, 12, 4, 4])"
            ]
          },
          "metadata": {
            "tags": []
          },
          "execution_count": 69
        }
      ]
    },
    {
      "cell_type": "markdown",
      "metadata": {
        "id": "ujeckximWSNg",
        "colab_type": "text"
      },
      "source": [
        "* Transitioning to linear layers"
      ]
    },
    {
      "cell_type": "markdown",
      "metadata": {
        "id": "oDeENN2QWSNh",
        "colab_type": "text"
      },
      "source": [
        "If we keep going, we see that after our two sequences of `conv > relu > maxpool`, the next step is to pass our output to a linear layer.  To do so, we need to take our output of 12 channels each of a 4x4 matrix, and translate it to a vector of length $ 12*4*4 = 192$ feature that we pass to a linear layer.  This explains the following line in the `forward` function."
      ]
    },
    {
      "cell_type": "markdown",
      "metadata": {
        "id": "ndd0A44yWSNh",
        "colab_type": "text"
      },
      "source": [
        "```python\n",
        "t = t.reshape(-1, 12*4*4)\n",
        "```"
      ]
    },
    {
      "cell_type": "code",
      "metadata": {
        "id": "4Ke-xvBrWSNi",
        "colab_type": "code",
        "colab": {
          "base_uri": "https://localhost:8080/",
          "height": 33
        },
        "outputId": "064bdeb4-6ee2-498e-c3ed-ead81a5ce2f0"
      },
      "source": [
        "12*4*4"
      ],
      "execution_count": null,
      "outputs": [
        {
          "output_type": "execute_result",
          "data": {
            "text/plain": [
              "192"
            ]
          },
          "metadata": {
            "tags": []
          },
          "execution_count": 70
        }
      ]
    },
    {
      "cell_type": "markdown",
      "metadata": {
        "id": "NWJQkx8VWSNj",
        "colab_type": "text"
      },
      "source": [
        "And then passed this vector of 192 features is passed to a linear layer of 120 neurons, to 60 neurons to 10 neurons to pass to the `log_softmax` function."
      ]
    },
    {
      "cell_type": "markdown",
      "metadata": {
        "id": "SlbhTnGQWSNk",
        "colab_type": "text"
      },
      "source": [
        "### Performing Training"
      ]
    },
    {
      "cell_type": "markdown",
      "metadata": {
        "id": "6zIwYytaWSNk",
        "colab_type": "text"
      },
      "source": [
        "Ok, now let's train our neural network."
      ]
    },
    {
      "cell_type": "markdown",
      "metadata": {
        "id": "DpKvX4sfWSNl",
        "colab_type": "text"
      },
      "source": [
        "> Initialize the Adam optimizer, passing through the parameters and the learning rate."
      ]
    },
    {
      "cell_type": "code",
      "metadata": {
        "id": "Hang3fh6WSNl",
        "colab_type": "code",
        "colab": {}
      },
      "source": [
        "import torch.optim as optim\n",
        "optimizer  = optim.Adam(net.parameters(), lr=0.0005)\n",
        "optimizer \n",
        "x_loss = nn.CrossEntropyLoss()"
      ],
      "execution_count": null,
      "outputs": []
    },
    {
      "cell_type": "markdown",
      "metadata": {
        "id": "ADxUedJ-WSNn",
        "colab_type": "text"
      },
      "source": [
        "And fill in the middle part of the training loop."
      ]
    },
    {
      "cell_type": "code",
      "metadata": {
        "id": "u9CyzWP5WSNn",
        "colab_type": "code",
        "colab": {
          "base_uri": "https://localhost:8080/",
          "height": 267
        },
        "outputId": "eadd140b-e05f-4419-e290-8f5238c5c773"
      },
      "source": [
        "for epoch in range(15):\n",
        "    for X_batch, y_batch in combined:\n",
        "        net.zero_grad()\n",
        "        #X_reshaped = X_batch.view(-1,28*28)\n",
        "        prediction_batch = net(X_batch.float())\n",
        "        loss = x_loss(prediction_batch, y_batch) \n",
        "        loss.backward()  \n",
        "        optimizer.step()\n",
        "        \n",
        "    print(loss)"
      ],
      "execution_count": null,
      "outputs": [
        {
          "output_type": "stream",
          "text": [
            "tensor(0.4872, grad_fn=<NllLossBackward>)\n",
            "tensor(0.4571, grad_fn=<NllLossBackward>)\n",
            "tensor(0.3595, grad_fn=<NllLossBackward>)\n",
            "tensor(0.2545, grad_fn=<NllLossBackward>)\n",
            "tensor(0.2108, grad_fn=<NllLossBackward>)\n",
            "tensor(0.2141, grad_fn=<NllLossBackward>)\n",
            "tensor(0.1989, grad_fn=<NllLossBackward>)\n",
            "tensor(0.2251, grad_fn=<NllLossBackward>)\n",
            "tensor(0.2133, grad_fn=<NllLossBackward>)\n",
            "tensor(0.1762, grad_fn=<NllLossBackward>)\n",
            "tensor(0.1915, grad_fn=<NllLossBackward>)\n",
            "tensor(0.1549, grad_fn=<NllLossBackward>)\n",
            "tensor(0.1690, grad_fn=<NllLossBackward>)\n",
            "tensor(0.1472, grad_fn=<NllLossBackward>)\n",
            "tensor(0.1467, grad_fn=<NllLossBackward>)\n"
          ],
          "name": "stdout"
        }
      ]
    },
    {
      "cell_type": "markdown",
      "metadata": {
        "id": "qcgxgIxzWSNr",
        "colab_type": "text"
      },
      "source": [
        "Ok, now that the we have trained our neural network, let's see how it performed.  "
      ]
    },
    {
      "cell_type": "markdown",
      "metadata": {
        "id": "Bn5R_EspWSNr",
        "colab_type": "text"
      },
      "source": [
        "> The target test data is already in an adequate format."
      ]
    },
    {
      "cell_type": "code",
      "metadata": {
        "id": "0pKROigrWSNr",
        "colab_type": "code",
        "colab": {},
        "outputId": "b16c6cb0-034b-4b49-9250-f1d969901340"
      },
      "source": [
        "test_y = test.targets\n",
        "test_y[:5]"
      ],
      "execution_count": null,
      "outputs": [
        {
          "output_type": "execute_result",
          "data": {
            "text/plain": [
              "tensor([9, 2, 1, 1, 6])"
            ]
          },
          "metadata": {
            "tags": []
          },
          "execution_count": 37
        }
      ]
    },
    {
      "cell_type": "markdown",
      "metadata": {
        "id": "14maniu8WSNt",
        "colab_type": "text"
      },
      "source": [
        "But the feature data is not."
      ]
    },
    {
      "cell_type": "code",
      "metadata": {
        "id": "nAegWUIaWSNu",
        "colab_type": "code",
        "colab": {
          "base_uri": "https://localhost:8080/",
          "height": 33
        },
        "outputId": "eec1d44d-97e6-4016-cf3d-f1e69b79988b"
      },
      "source": [
        "test_X = test.data\n",
        "test_X.shape"
      ],
      "execution_count": null,
      "outputs": [
        {
          "output_type": "execute_result",
          "data": {
            "text/plain": [
              "torch.Size([10000, 28, 28])"
            ]
          },
          "metadata": {
            "tags": []
          },
          "execution_count": 85
        }
      ]
    },
    {
      "cell_type": "markdown",
      "metadata": {
        "id": "vMAyS1MBWSNw",
        "colab_type": "text"
      },
      "source": [
        "Reshape the `test_X` data so that each observation has a 28x28 channel."
      ]
    },
    {
      "cell_type": "code",
      "metadata": {
        "id": "KmMRg-PxWSNw",
        "colab_type": "code",
        "colab": {}
      },
      "source": [
        "test_X_reshaped = test.data.reshape(10000, 1, 28, 28)"
      ],
      "execution_count": null,
      "outputs": []
    },
    {
      "cell_type": "code",
      "metadata": {
        "id": "ufymqHRbWSNz",
        "colab_type": "code",
        "colab": {
          "base_uri": "https://localhost:8080/",
          "height": 33
        },
        "outputId": "6ff9f7fd-2532-44f3-de85-5609f33b6d73"
      },
      "source": [
        "test_X_reshaped.shape\n",
        "\n",
        "# torch.Size([10000, 1, 28, 28])"
      ],
      "execution_count": null,
      "outputs": [
        {
          "output_type": "execute_result",
          "data": {
            "text/plain": [
              "torch.Size([10000, 1, 28, 28])"
            ]
          },
          "metadata": {
            "tags": []
          },
          "execution_count": 89
        }
      ]
    },
    {
      "cell_type": "markdown",
      "metadata": {
        "id": "HjOOQti1WSN0",
        "colab_type": "text"
      },
      "source": [
        "Now get a set of predictions of the test data from the neural network, find the argmax of each prediction, and use sklearn to compute the accuracy."
      ]
    },
    {
      "cell_type": "code",
      "metadata": {
        "id": "eEcX4_kLWSN1",
        "colab_type": "code",
        "colab": {}
      },
      "source": [
        "predictions = net(test_X_reshaped.float())"
      ],
      "execution_count": null,
      "outputs": []
    },
    {
      "cell_type": "code",
      "metadata": {
        "id": "BAA1sysGWSN3",
        "colab_type": "code",
        "colab": {}
      },
      "source": [
        "import torch\n",
        "max_predictions = torch.argmax(predictions, axis = 1)"
      ],
      "execution_count": null,
      "outputs": []
    },
    {
      "cell_type": "code",
      "metadata": {
        "id": "dZfaMdqVWSN4",
        "colab_type": "code",
        "colab": {
          "base_uri": "https://localhost:8080/",
          "height": 33
        },
        "outputId": "c1d8be1a-026d-402c-abc0-548fac46c9c0"
      },
      "source": [
        "from sklearn.metrics import accuracy_score\n",
        "\n",
        "accuracy_score(test.targets, max_predictions )"
      ],
      "execution_count": null,
      "outputs": [
        {
          "output_type": "execute_result",
          "data": {
            "text/plain": [
              "0.8684"
            ]
          },
          "metadata": {
            "tags": []
          },
          "execution_count": 93
        }
      ]
    },
    {
      "cell_type": "code",
      "metadata": {
        "id": "h1xfWUTan-2f",
        "colab_type": "code",
        "colab": {}
      },
      "source": [
        ""
      ],
      "execution_count": null,
      "outputs": []
    },
    {
      "cell_type": "markdown",
      "metadata": {
        "id": "419ALBGFWSN7",
        "colab_type": "text"
      },
      "source": [
        "### Summary"
      ]
    },
    {
      "cell_type": "markdown",
      "metadata": {
        "id": "95--i1L2WSN7",
        "colab_type": "text"
      },
      "source": [
        "In this lesson, we learned how to read through and work with a convolutional neural network in Pytorch.  We saw that we can access convolutional layers and pass data through them to find the output returned from each layer.  \n",
        "\n",
        "We can also use our formula to predict how the data will change shape as it passes through the layers."
      ]
    },
    {
      "cell_type": "markdown",
      "metadata": {
        "id": "TsGVDfgIWSN8",
        "colab_type": "text"
      },
      "source": [
        "$output = \\frac{i - k + 2p}{s} + 1$ "
      ]
    },
    {
      "cell_type": "markdown",
      "metadata": {
        "id": "sqlgi1vFWSN8",
        "colab_type": "text"
      },
      "source": [
        "We saw that when passing data from a convolutional layer to a linear layer, we needed to transform our data to be in the form of vectors."
      ]
    },
    {
      "cell_type": "markdown",
      "metadata": {
        "id": "-s7qi987WSN9",
        "colab_type": "text"
      },
      "source": [
        "```python\n",
        "F.max_pool2d(F.relu(net.conv2(output_maxpool_1)), 2).shape\n",
        "# torch.Size([100, 12, 4, 4])\n",
        "\n",
        "t = t.reshape(-1, 12*4*4)\n",
        "```"
      ]
    },
    {
      "cell_type": "markdown",
      "metadata": {
        "id": "aaA8dU_vWSN9",
        "colab_type": "text"
      },
      "source": [
        "Then we continued on with our training loop and assessing our neural network."
      ]
    },
    {
      "cell_type": "markdown",
      "metadata": {
        "id": "aWU3S1ENWSN_",
        "colab_type": "text"
      },
      "source": [
        "### Resources\n",
        "\n",
        "[Fashion MNist](https://towardsdatascience.com/build-a-fashion-mnist-cnn-pytorch-style-efb297e22582)"
      ]
    }
  ]
}