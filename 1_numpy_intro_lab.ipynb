{
  "nbformat": 4,
  "nbformat_minor": 0,
  "metadata": {
    "kernelspec": {
      "display_name": "Python 3",
      "language": "python",
      "name": "python3"
    },
    "language_info": {
      "codemirror_mode": {
        "name": "ipython",
        "version": 3
      },
      "file_extension": ".py",
      "mimetype": "text/x-python",
      "name": "python",
      "nbconvert_exporter": "python",
      "pygments_lexer": "ipython3",
      "version": "3.7.4"
    },
    "colab": {
      "name": "1-numpy-intro-lab.ipynb",
      "provenance": [],
      "include_colab_link": true
    }
  },
  "cells": [
    {
      "cell_type": "markdown",
      "metadata": {
        "id": "view-in-github",
        "colab_type": "text"
      },
      "source": [
        "<a href=\"https://colab.research.google.com/github/kani91/ProgrammingAssignment2/blob/master/1_numpy_intro_lab.ipynb\" target=\"_parent\"><img src=\"https://colab.research.google.com/assets/colab-badge.svg\" alt=\"Open In Colab\"/></a>"
      ]
    },
    {
      "cell_type": "markdown",
      "metadata": {
        "id": "cScCnaqW4JD7",
        "colab_type": "text"
      },
      "source": [
        "# Numpy Intro Lab"
      ]
    },
    {
      "cell_type": "markdown",
      "metadata": {
        "id": "wLgumc3D4JD-",
        "colab_type": "text"
      },
      "source": [
        "### Introduction"
      ]
    },
    {
      "cell_type": "markdown",
      "metadata": {
        "id": "W0oPd9e_4JD_",
        "colab_type": "text"
      },
      "source": [
        "In this lesson, let's practice working with the fundamentals of numpy arrays.  This will give us a good foundation when we move onto working with higher dimensional arrays (whatever that is), and the pandas library in the future."
      ]
    },
    {
      "cell_type": "markdown",
      "metadata": {
        "id": "cNct6eH84JEA",
        "colab_type": "text"
      },
      "source": [
        "### Creating Arrays"
      ]
    },
    {
      "cell_type": "markdown",
      "metadata": {
        "id": "KF69hfVI4JEB",
        "colab_type": "text"
      },
      "source": [
        "Let's begin by importing the numpy library."
      ]
    },
    {
      "cell_type": "code",
      "metadata": {
        "id": "oH0uFd0m4JED",
        "colab_type": "code",
        "colab": {}
      },
      "source": [
        "import numpy as np"
      ],
      "execution_count": 0,
      "outputs": []
    },
    {
      "cell_type": "markdown",
      "metadata": {
        "id": "lJKH0--o4JEG",
        "colab_type": "text"
      },
      "source": [
        "Next let's use numpy to create a numpy array of even numbers from 2 to 100 and assign this to the variable `even_nums`."
      ]
    },
    {
      "cell_type": "code",
      "metadata": {
        "id": "ShoE1bZ44JEI",
        "colab_type": "code",
        "colab": {}
      },
      "source": [
        "even_nums = None"
      ],
      "execution_count": 0,
      "outputs": []
    },
    {
      "cell_type": "code",
      "metadata": {
        "id": "BRsRI6KW4JEO",
        "colab_type": "code",
        "outputId": "d1615cf8-60dc-4e1b-bbc2-be86d2a26ac4",
        "colab": {}
      },
      "source": [
        "even_nums\n",
        "\n",
        "# array([  2,   4,   6,   8,  10,  12,  14,  16,  18,  20,  22,  24,  26,\n",
        "#         28,  30,  32,  34,  36,  38,  40,  42,  44,  46,  48,  50,  52,\n",
        "#         54,  56,  58,  60,  62,  64,  66,  68,  70,  72,  74,  76,  78,\n",
        "#         80,  82,  84,  86,  88,  90,  92,  94,  96,  98, 100])"
      ],
      "execution_count": 0,
      "outputs": [
        {
          "output_type": "execute_result",
          "data": {
            "text/plain": [
              "array([  2,   4,   6,   8,  10,  12,  14,  16,  18,  20,  22,  24,  26,\n",
              "        28,  30,  32,  34,  36,  38,  40,  42,  44,  46,  48,  50,  52,\n",
              "        54,  56,  58,  60,  62,  64,  66,  68,  70,  72,  74,  76,  78,\n",
              "        80,  82,  84,  86,  88,  90,  92,  94,  96,  98, 100])"
            ]
          },
          "metadata": {
            "tags": []
          },
          "execution_count": 15
        }
      ]
    },
    {
      "cell_type": "markdown",
      "metadata": {
        "id": "7ty3sECG4JES",
        "colab_type": "text"
      },
      "source": [
        "Next, select the first 25 entries in numpy."
      ]
    },
    {
      "cell_type": "code",
      "metadata": {
        "id": "Mb3IOiFB4JEU",
        "colab_type": "code",
        "colab": {}
      },
      "source": [
        "first_half_even = even_nums[:25]"
      ],
      "execution_count": 0,
      "outputs": []
    },
    {
      "cell_type": "code",
      "metadata": {
        "id": "qqZ_lq4T4JEc",
        "colab_type": "code",
        "outputId": "f84c2646-cac9-4817-d21b-5f9af5d910c7",
        "colab": {}
      },
      "source": [
        "len(first_half_even)\n",
        "\n",
        "# 25"
      ],
      "execution_count": 0,
      "outputs": [
        {
          "output_type": "execute_result",
          "data": {
            "text/plain": [
              "25"
            ]
          },
          "metadata": {
            "tags": []
          },
          "execution_count": 17
        }
      ]
    },
    {
      "cell_type": "markdown",
      "metadata": {
        "id": "2Spl4r9N4JEi",
        "colab_type": "text"
      },
      "source": [
        "### Working with DataTypes"
      ]
    },
    {
      "cell_type": "markdown",
      "metadata": {
        "id": "BZczZOe24JEk",
        "colab_type": "text"
      },
      "source": [
        "Ok, now let's check the datatype of the numpy array `even_nums`."
      ]
    },
    {
      "cell_type": "code",
      "metadata": {
        "id": "o8o6oT4s4JEl",
        "colab_type": "code",
        "outputId": "4b884b90-773f-42d1-bfe4-cce1fe218137",
        "colab": {}
      },
      "source": [
        "\n",
        "\n",
        "# dtype('int64')"
      ],
      "execution_count": 0,
      "outputs": [
        {
          "output_type": "execute_result",
          "data": {
            "text/plain": [
              "dtype('int64')"
            ]
          },
          "metadata": {
            "tags": []
          },
          "execution_count": 19
        }
      ]
    },
    {
      "cell_type": "markdown",
      "metadata": {
        "id": "pg4IDece4JEo",
        "colab_type": "text"
      },
      "source": [
        "From our `even_nums` array, use `astype` to create an array of type `float64`, and assign it to the variable `even_floats`."
      ]
    },
    {
      "cell_type": "code",
      "metadata": {
        "id": "A9hue7OF4JEq",
        "colab_type": "code",
        "colab": {}
      },
      "source": [
        "even_floats = None"
      ],
      "execution_count": 0,
      "outputs": []
    },
    {
      "cell_type": "code",
      "metadata": {
        "id": "9mkMh8Qm4JEz",
        "colab_type": "code",
        "outputId": "96d81d1a-bfb6-4436-f343-87caf2359802",
        "colab": {}
      },
      "source": [
        "even_floats\n",
        "# array([ 2.,  4.,  6.,  8., 10., 12., 14., 16., 18., 20., 22., 24., 26.,\n",
        "#        28., 30., 32., 34., 36., 38., 40., 42., 44., 46., 48., 50.])\n"
      ],
      "execution_count": 0,
      "outputs": [
        {
          "output_type": "execute_result",
          "data": {
            "text/plain": [
              "array([ 2.,  4.,  6.,  8., 10., 12., 14., 16., 18., 20., 22., 24., 26.,\n",
              "       28., 30., 32., 34., 36., 38., 40., 42., 44., 46., 48., 50.])"
            ]
          },
          "metadata": {
            "tags": []
          },
          "execution_count": 21
        }
      ]
    },
    {
      "cell_type": "markdown",
      "metadata": {
        "id": "Xja7-iuo4JE5",
        "colab_type": "text"
      },
      "source": [
        "> The decimal point after each number indicates a datatype of float."
      ]
    },
    {
      "cell_type": "markdown",
      "metadata": {
        "id": "490nJdWm4JE7",
        "colab_type": "text"
      },
      "source": [
        "Next, let's make a copy of our `even_nums` and change the datatype to type string."
      ]
    },
    {
      "cell_type": "code",
      "metadata": {
        "id": "MwNG9Drc4JE9",
        "colab_type": "code",
        "outputId": "f6021685-df44-4f44-b1c1-71b2e2e7712b",
        "colab": {}
      },
      "source": [
        "first_half_even.astype(np.str_)\n",
        "\n",
        "# array(['2', '4', '6', '8', '10', '12', '14', '16', '18', '20', '22', '24',\n",
        "#        '26', '28', '30', '32', '34', '36', '38', '40', '42', '44', '46',\n",
        "#        '48', '50'], dtype='<U21')"
      ],
      "execution_count": 0,
      "outputs": [
        {
          "output_type": "execute_result",
          "data": {
            "text/plain": [
              "array(['2', '4', '6', '8', '10', '12', '14', '16', '18', '20', '22', '24',\n",
              "       '26', '28', '30', '32', '34', '36', '38', '40', '42', '44', '46',\n",
              "       '48', '50'], dtype='<U21')"
            ]
          },
          "metadata": {
            "tags": []
          },
          "execution_count": 23
        }
      ]
    },
    {
      "cell_type": "markdown",
      "metadata": {
        "id": "-1wnqL4n4JFD",
        "colab_type": "text"
      },
      "source": [
        "> The `U` stands for unicode. Unicode is a information technology standard for the consistent encoding, representation, and handling of text expressed in most of the world's writing systems.  - [Wikipedia](https://en.wikipedia.org/wiki/Unicode)"
      ]
    },
    {
      "cell_type": "markdown",
      "metadata": {
        "id": "IjCgxrCg4JFE",
        "colab_type": "text"
      },
      "source": [
        "### Broadcasting "
      ]
    },
    {
      "cell_type": "markdown",
      "metadata": {
        "id": "pnIMJhv44JFF",
        "colab_type": "text"
      },
      "source": [
        "Now let's move onto working with broadcasting.  Start with `even_nums`, and decrease each item in the array by 1.  Assign the result to the variable `odd_nums`."
      ]
    },
    {
      "cell_type": "code",
      "metadata": {
        "id": "UIRXx5om4JFG",
        "colab_type": "code",
        "colab": {}
      },
      "source": [
        "odd_nums = None"
      ],
      "execution_count": 0,
      "outputs": []
    },
    {
      "cell_type": "code",
      "metadata": {
        "id": "3Embye1F4JFL",
        "colab_type": "code",
        "outputId": "97d36fa5-a789-4e68-f3de-fe2dc993e769",
        "colab": {}
      },
      "source": [
        "odd_nums\n",
        "\n",
        "# array([ 1,  3,  5,  7,  9, 11, 13, 15, 17, 19, 21, 23, 25, 27, 29, 31, 33,\n",
        "#        35, 37, 39, 41, 43, 45, 47, 49, 51, 53, 55, 57, 59, 61, 63, 65, 67,\n",
        "#        69, 71, 73, 75, 77, 79, 81, 83, 85, 87, 89, 91, 93, 95, 97, 99])"
      ],
      "execution_count": 0,
      "outputs": [
        {
          "output_type": "execute_result",
          "data": {
            "text/plain": [
              "array([ 1,  3,  5,  7,  9, 11, 13, 15, 17, 19, 21, 23, 25, 27, 29, 31, 33,\n",
              "       35, 37, 39, 41, 43, 45, 47, 49, 51, 53, 55, 57, 59, 61, 63, 65, 67,\n",
              "       69, 71, 73, 75, 77, 79, 81, 83, 85, 87, 89, 91, 93, 95, 97, 99])"
            ]
          },
          "metadata": {
            "tags": []
          },
          "execution_count": 30
        }
      ]
    },
    {
      "cell_type": "markdown",
      "metadata": {
        "id": "HM8HO3CA4JFU",
        "colab_type": "text"
      },
      "source": [
        "Notice that the original array is unchanged."
      ]
    },
    {
      "cell_type": "code",
      "metadata": {
        "id": "F9MMKG0w4JFV",
        "colab_type": "code",
        "outputId": "9be837d4-556c-43f9-a024-a57fcd2a321e",
        "colab": {}
      },
      "source": [
        "even_nums"
      ],
      "execution_count": 0,
      "outputs": [
        {
          "output_type": "execute_result",
          "data": {
            "text/plain": [
              "array([  2,   4,   6,   8,  10,  12,  14,  16,  18,  20,  22,  24,  26,\n",
              "        28,  30,  32,  34,  36,  38,  40,  42,  44,  46,  48,  50,  52,\n",
              "        54,  56,  58,  60,  62,  64,  66,  68,  70,  72,  74,  76,  78,\n",
              "        80,  82,  84,  86,  88,  90,  92,  94,  96,  98, 100])"
            ]
          },
          "metadata": {
            "tags": []
          },
          "execution_count": 27
        }
      ]
    },
    {
      "cell_type": "markdown",
      "metadata": {
        "id": "dj_2zXrC4JFc",
        "colab_type": "text"
      },
      "source": [
        "### Adding two arrays"
      ]
    },
    {
      "cell_type": "markdown",
      "metadata": {
        "id": "iV_qR4C24JFd",
        "colab_type": "text"
      },
      "source": [
        "Next, let's see what happens if we add the `even_nums` and `odd_nums` arrays together."
      ]
    },
    {
      "cell_type": "code",
      "metadata": {
        "id": "-H08-z6C4JFe",
        "colab_type": "code",
        "colab": {}
      },
      "source": [
        "even_nums + odd_nums\n",
        "\n",
        "# array([  3,   7,  11,  15,  19,  23,  27,  31,  35,  39,  43,  47,  51,\n",
        "#         55,  59,  63,  67,  71,  75,  79,  83,  87,  91,  95,  99, 103,\n",
        "#        107, 111, 115, 119, 123, 127, 131, 135, 139, 143, 147, 151, 155,\n",
        "#        159, 163, 167, 171, 175, 179, 183, 187, 191, 195, 199])"
      ],
      "execution_count": 0,
      "outputs": []
    },
    {
      "cell_type": "markdown",
      "metadata": {
        "id": "TUoKMAYp4JFh",
        "colab_type": "text"
      },
      "source": [
        "We can see that this performs entrywise addition of the two arrays.  "
      ]
    },
    {
      "cell_type": "markdown",
      "metadata": {
        "id": "PavgCDRJ4JFj",
        "colab_type": "text"
      },
      "source": [
        "`[2 + 1, 4 + 3, 6 + 5 ...]`"
      ]
    },
    {
      "cell_type": "markdown",
      "metadata": {
        "id": "sWUFbbOA4JFk",
        "colab_type": "text"
      },
      "source": [
        "### Summary"
      ]
    },
    {
      "cell_type": "markdown",
      "metadata": {
        "id": "yJPNJSGx4JFn",
        "colab_type": "text"
      },
      "source": [
        "In this lesson, we practiced creating, slicing and broadcasting with numpy arrays.  We also saw to check for and change the datatype in numpy with `dtype` and `astype`."
      ]
    }
  ]
}